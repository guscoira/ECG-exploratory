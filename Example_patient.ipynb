{
 "cells": [
  {
   "cell_type": "code",
   "execution_count": 9,
   "id": "195b142b-cf97-446c-8602-356e01f0308d",
   "metadata": {},
   "outputs": [],
   "source": [
    "import wfdb\n",
    "from wfdb import processing\n",
    "from matplotlib import pyplot as plt\n",
    "import numpy as np"
   ]
  },
  {
   "cell_type": "code",
   "execution_count": 10,
   "id": "5c1a1714-9e91-4740-81e0-619e597ae4ee",
   "metadata": {},
   "outputs": [],
   "source": [
    "path = \"/home/gcoira/ptb-diagnostic-ecg-database-1.0.0/\"\n",
    "patient = \"patient227\"\n",
    "signal = \"s0450_re\""
   ]
  },
  {
   "cell_type": "code",
   "execution_count": 11,
   "id": "4f8578f0-ae37-460e-8aa4-1a8629cffd34",
   "metadata": {},
   "outputs": [],
   "source": [
    "record = wfdb.rdrecord(path+patient+'/'+signal)\n"
   ]
  },
  {
   "cell_type": "code",
   "execution_count": 12,
   "id": "cd9008d6-1c64-438c-a115-823b0ecff462",
   "metadata": {},
   "outputs": [],
   "source": [
    "wfdb.plot_wfdb(record=record, title='Example signals')"
   ]
  },
  {
   "cell_type": "code",
   "execution_count": null,
   "id": "6afd9d73-9074-4d54-a37e-ce7a204aaf6c",
   "metadata": {},
   "outputs": [],
   "source": []
  }
 ],
 "metadata": {
  "kernelspec": {
   "display_name": "Python 3 (ipykernel)",
   "language": "python",
   "name": "python3"
  },
  "language_info": {
   "codemirror_mode": {
    "name": "ipython",
    "version": 3
   },
   "file_extension": ".py",
   "mimetype": "text/x-python",
   "name": "python",
   "nbconvert_exporter": "python",
   "pygments_lexer": "ipython3",
   "version": "3.8.10"
  }
 },
 "nbformat": 4,
 "nbformat_minor": 5
}
