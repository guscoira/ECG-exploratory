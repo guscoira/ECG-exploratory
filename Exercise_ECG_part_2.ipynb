{
  "cells": [
    {
      "cell_type": "markdown",
      "metadata": {
        "id": "view-in-github",
        "colab_type": "text"
      },
      "source": [
        "<a href=\"https://colab.research.google.com/github/guscoira/ECG-exploratory/blob/main/Exercise_ECG_part_2.ipynb\" target=\"_parent\"><img src=\"https://colab.research.google.com/assets/colab-badge.svg\" alt=\"Open In Colab\"/></a>"
      ]
    },
    {
      "cell_type": "code",
      "execution_count": 1,
      "id": "c5491e3e-a14f-4afc-bee2-91e4b070c3c7",
      "metadata": {
        "id": "c5491e3e-a14f-4afc-bee2-91e4b070c3c7",
        "colab": {
          "base_uri": "https://localhost:8080/"
        },
        "outputId": "0c3e9bd9-073a-4eae-c6cc-89701a1925a9"
      },
      "outputs": [
        {
          "output_type": "stream",
          "name": "stdout",
          "text": [
            "Looking in indexes: https://pypi.org/simple, https://us-python.pkg.dev/colab-wheels/public/simple/\n",
            "Requirement already satisfied: wfdb in /usr/local/lib/python3.7/dist-packages (4.0.0)\n",
            "Requirement already satisfied: numpy<2.0.0,>=1.10.1 in /usr/local/lib/python3.7/dist-packages (from wfdb) (1.21.6)\n",
            "Requirement already satisfied: SoundFile<0.12.0,>=0.10.0 in /usr/local/lib/python3.7/dist-packages (from wfdb) (0.11.0)\n",
            "Requirement already satisfied: scipy<2.0.0,>=1.0.0 in /usr/local/lib/python3.7/dist-packages (from wfdb) (1.7.3)\n",
            "Requirement already satisfied: requests<3.0.0,>=2.8.1 in /usr/local/lib/python3.7/dist-packages (from wfdb) (2.23.0)\n",
            "Requirement already satisfied: pandas<2.0.0,>=1.0.0 in /usr/local/lib/python3.7/dist-packages (from wfdb) (1.3.5)\n",
            "Requirement already satisfied: matplotlib<4.0.0,>=3.2.2 in /usr/local/lib/python3.7/dist-packages (from wfdb) (3.2.2)\n",
            "Requirement already satisfied: pyparsing!=2.0.4,!=2.1.2,!=2.1.6,>=2.0.1 in /usr/local/lib/python3.7/dist-packages (from matplotlib<4.0.0,>=3.2.2->wfdb) (3.0.9)\n",
            "Requirement already satisfied: kiwisolver>=1.0.1 in /usr/local/lib/python3.7/dist-packages (from matplotlib<4.0.0,>=3.2.2->wfdb) (1.4.4)\n",
            "Requirement already satisfied: python-dateutil>=2.1 in /usr/local/lib/python3.7/dist-packages (from matplotlib<4.0.0,>=3.2.2->wfdb) (2.8.2)\n",
            "Requirement already satisfied: cycler>=0.10 in /usr/local/lib/python3.7/dist-packages (from matplotlib<4.0.0,>=3.2.2->wfdb) (0.11.0)\n",
            "Requirement already satisfied: typing-extensions in /usr/local/lib/python3.7/dist-packages (from kiwisolver>=1.0.1->matplotlib<4.0.0,>=3.2.2->wfdb) (4.1.1)\n",
            "Requirement already satisfied: pytz>=2017.3 in /usr/local/lib/python3.7/dist-packages (from pandas<2.0.0,>=1.0.0->wfdb) (2022.4)\n",
            "Requirement already satisfied: six>=1.5 in /usr/local/lib/python3.7/dist-packages (from python-dateutil>=2.1->matplotlib<4.0.0,>=3.2.2->wfdb) (1.15.0)\n",
            "Requirement already satisfied: chardet<4,>=3.0.2 in /usr/local/lib/python3.7/dist-packages (from requests<3.0.0,>=2.8.1->wfdb) (3.0.4)\n",
            "Requirement already satisfied: certifi>=2017.4.17 in /usr/local/lib/python3.7/dist-packages (from requests<3.0.0,>=2.8.1->wfdb) (2022.9.24)\n",
            "Requirement already satisfied: idna<3,>=2.5 in /usr/local/lib/python3.7/dist-packages (from requests<3.0.0,>=2.8.1->wfdb) (2.10)\n",
            "Requirement already satisfied: urllib3!=1.25.0,!=1.25.1,<1.26,>=1.21.1 in /usr/local/lib/python3.7/dist-packages (from requests<3.0.0,>=2.8.1->wfdb) (1.24.3)\n",
            "Requirement already satisfied: cffi>=1.0 in /usr/local/lib/python3.7/dist-packages (from SoundFile<0.12.0,>=0.10.0->wfdb) (1.15.1)\n",
            "Requirement already satisfied: pycparser in /usr/local/lib/python3.7/dist-packages (from cffi>=1.0->SoundFile<0.12.0,>=0.10.0->wfdb) (2.21)\n"
          ]
        }
      ],
      "source": [
        "!pip install wfdb\n",
        "import wfdb\n",
        "import pandas as pd\n",
        "from wfdb import processing\n",
        "from matplotlib import pyplot as plt\n",
        "import numpy as np\n",
        "import statsmodels.api as sm\n",
        "\n",
        "import tensorflow as tf\n",
        "from tensorflow.keras import layers\n",
        "from tensorflow.keras import models"
      ]
    },
    {
      "cell_type": "code",
      "execution_count": 2,
      "id": "c582d071-1742-4379-8bba-98e6cec25df4",
      "metadata": {
        "id": "c582d071-1742-4379-8bba-98e6cec25df4",
        "colab": {
          "base_uri": "https://localhost:8080/"
        },
        "outputId": "4a74b657-9329-45be-a9dd-b08398eb1d95"
      },
      "outputs": [
        {
          "output_type": "stream",
          "name": "stdout",
          "text": [
            "Drive already mounted at /content/drive; to attempt to forcibly remount, call drive.mount(\"/content/drive\", force_remount=True).\n"
          ]
        }
      ],
      "source": [
        "from google.colab import drive\n",
        "drive.mount('/content/drive')"
      ]
    },
    {
      "cell_type": "markdown",
      "id": "43c5a0ab-771b-4cc7-ae81-d08bafd43758",
      "metadata": {
        "id": "43c5a0ab-771b-4cc7-ae81-d08bafd43758"
      },
      "source": [
        "# A dataset for CNN-based QRS detection\n",
        "\n",
        "In the previous exercise I showed how to detect a QRS peak by traditional algorithms. Today, with the most recent computing capabilities, it is possible to obtain a better accuracy with the power of Deep Learning. Indeed, it is possible to train a CNN to detect QRS peaks. The purpose of this notebook is to build a dataset to feed such a CNN. \n",
        "\n",
        "As an input dataset we are taking the whole patients database and we define the sampling intervals for the ECGs. In this case the interval will be [0, 1.5s]"
      ]
    },
    {
      "cell_type": "code",
      "execution_count": 3,
      "id": "be69c9ab-e29b-4704-a21b-249b2c490426",
      "metadata": {
        "id": "be69c9ab-e29b-4704-a21b-249b2c490426"
      },
      "outputs": [],
      "source": [
        "path = \"/content/drive/MyDrive/ECG/ptb-diagnostic-ecg-database-1.0.0/\"\n",
        "t_0 = 0\n",
        "t_fin = 1500\n",
        "\n",
        "with open(path + '/RECORDS') as f:\n",
        "    files = f.read().splitlines() \n",
        "    \n",
        "records = []\n",
        "patients = []\n",
        "\n",
        "for file in files:\n",
        "    records.append(wfdb.rdrecord(path + \"/\"+ file, sampfrom=t_0, sampto=t_fin)) \n",
        "    patients.append(file.split('/')[0])"
      ]
    },
    {
      "cell_type": "markdown",
      "id": "568dbbda-bcf4-4d41-8489-8ef2e297619b",
      "metadata": {
        "id": "568dbbda-bcf4-4d41-8489-8ef2e297619b"
      },
      "source": [
        "The preprocessing of the signals are done in two steps:\n",
        "- Baseline removal: This step is needed to remove external signals from the ECG (such as breathing) so the CNN does not learn them as signal.\n",
        "- Signal normalization: This step is needed to guarantee that all the features are learned in the same scale."
      ]
    },
    {
      "cell_type": "code",
      "execution_count": 4,
      "id": "cd7a1de1-e67b-4eb7-a1a3-fbc2e25d6a30",
      "metadata": {
        "id": "cd7a1de1-e67b-4eb7-a1a3-fbc2e25d6a30"
      },
      "outputs": [],
      "source": [
        "def remove_baseline(record, channel):\n",
        "    \"\"\" Removes the baseline from the ECG by applying a LOWESS smoother \"\"\"\n",
        "    \n",
        "    signal_0 = record.p_signal[:, channel]\n",
        "    x = np.arange(len(signal_0))\n",
        "    baseline = sm.nonparametric.lowess(signal_0, x, frac = 0.05) \n",
        "    signal_b = signal_0-baseline[:, 1]\n",
        "    return signal_b\n",
        "\n",
        "def normalize_ECG(signal):\n",
        "    \"\"\" Normalizes the signal\n",
        "    \n",
        "    The normalized signal is centered in the interval [-1, 1]\n",
        "    \n",
        "    \"\"\"\n",
        "    \n",
        "    norm = max(signal.max(), abs(signal.min()))\n",
        "    return signal/norm\n",
        "\n",
        "def parse_coms(record):\n",
        "    \"\"\" Formats the comments of the record as a python dictionary \"\"\"\n",
        "    \n",
        "    head_info = {}\n",
        "    for item in record.comments:\n",
        "        elem = item.split(':')\n",
        "        head_info[elem[0]] = elem[1].lstrip()\n",
        "    \n",
        "    keys =  list(head_info.keys())\n",
        "    ii_diag = [i for i, x in enumerate(keys) if x == \"Diagnose\"][0]\n",
        "    ii_hemo = [i for i, x in enumerate(keys) if x == \"Hemodynamics\"][0]\n",
        "    ii_ther = [i for i, x in enumerate(keys) if x == \"Therapy\"][0]\n",
        "\n",
        "    keys_diag = [x for i, x in enumerate(keys) if ii_diag < i < ii_hemo]\n",
        "    keys_hemo = [x for i, x in enumerate(keys) if ii_hemo < i < ii_ther]\n",
        "    keys_ther = [x for i, x in enumerate(keys) if ii_ther < i]\n",
        "    \n",
        "    header_all = {\"age\":head_info[\"age\"], \n",
        "                  \"sex\":head_info[\"sex\"], \n",
        "                  \"ECG date\":head_info[\"ECG date\"], \n",
        "                  \"Diagnose\":{}, \n",
        "                  \"Hemodynamics\":{}, \n",
        "                  \"Therapy\":{}}\n",
        "\n",
        "    for key in keys_diag:\n",
        "        header_all['Diagnose'][key] = head_info[key]\n",
        "    for key in keys_hemo:\n",
        "        header_all['Hemodynamics'][key] = head_info[key]\n",
        "    for key in keys_ther:\n",
        "        header_all['Therapy'][key] = head_info[key]\n",
        "        \n",
        "    return header_all"
      ]
    },
    {
      "cell_type": "markdown",
      "id": "8a29f96f-79a2-433d-88c8-db7dd634f4de",
      "metadata": {
        "id": "8a29f96f-79a2-433d-88c8-db7dd634f4de"
      },
      "source": [
        "For each patient in the sample, the following information is stored in lists:\n",
        "- The preprocessed ECG signal (de-baselined, normalized) corresponding to the channel 1 (it can be any other channel)\n",
        "- The reason for their admission\n",
        "\n",
        "Then the result is converted to a pandas DataFrame:"
      ]
    },
    {
      "cell_type": "code",
      "execution_count": 5,
      "id": "70eb8136-712c-40af-81bf-25f0dac7b46f",
      "metadata": {
        "id": "70eb8136-712c-40af-81bf-25f0dac7b46f",
        "colab": {
          "base_uri": "https://localhost:8080/",
          "height": 206
        },
        "outputId": "2316ece0-47bf-462e-9feb-0ceb80c7e812"
      },
      "outputs": [
        {
          "output_type": "execute_result",
          "data": {
            "text/plain": [
              "        Patient                 Motive  \\\n",
              "376  patient163  Myocardial infarction   \n",
              "156  patient049  Myocardial infarction   \n",
              "375  patient162                    n/a   \n",
              "406  patient181                    n/a   \n",
              "378  patient164                    n/a   \n",
              "\n",
              "                                                Signal  \n",
              "376  [0.027985493329355415, 0.03141626757732475, 0....  \n",
              "156  [0.0146367091640649, -0.003939201842603411, 0....  \n",
              "375  [-0.034621064518773566, -0.03503373501385419, ...  \n",
              "406  [-0.028214674193885424, -0.02647124214039433, ...  \n",
              "378  [-0.08084020145879693, -0.10510108078474308, -...  "
            ],
            "text/html": [
              "\n",
              "  <div id=\"df-7b68484d-f40a-412c-ae97-ed4d63854cda\">\n",
              "    <div class=\"colab-df-container\">\n",
              "      <div>\n",
              "<style scoped>\n",
              "    .dataframe tbody tr th:only-of-type {\n",
              "        vertical-align: middle;\n",
              "    }\n",
              "\n",
              "    .dataframe tbody tr th {\n",
              "        vertical-align: top;\n",
              "    }\n",
              "\n",
              "    .dataframe thead th {\n",
              "        text-align: right;\n",
              "    }\n",
              "</style>\n",
              "<table border=\"1\" class=\"dataframe\">\n",
              "  <thead>\n",
              "    <tr style=\"text-align: right;\">\n",
              "      <th></th>\n",
              "      <th>Patient</th>\n",
              "      <th>Motive</th>\n",
              "      <th>Signal</th>\n",
              "    </tr>\n",
              "  </thead>\n",
              "  <tbody>\n",
              "    <tr>\n",
              "      <th>376</th>\n",
              "      <td>patient163</td>\n",
              "      <td>Myocardial infarction</td>\n",
              "      <td>[0.027985493329355415, 0.03141626757732475, 0....</td>\n",
              "    </tr>\n",
              "    <tr>\n",
              "      <th>156</th>\n",
              "      <td>patient049</td>\n",
              "      <td>Myocardial infarction</td>\n",
              "      <td>[0.0146367091640649, -0.003939201842603411, 0....</td>\n",
              "    </tr>\n",
              "    <tr>\n",
              "      <th>375</th>\n",
              "      <td>patient162</td>\n",
              "      <td>n/a</td>\n",
              "      <td>[-0.034621064518773566, -0.03503373501385419, ...</td>\n",
              "    </tr>\n",
              "    <tr>\n",
              "      <th>406</th>\n",
              "      <td>patient181</td>\n",
              "      <td>n/a</td>\n",
              "      <td>[-0.028214674193885424, -0.02647124214039433, ...</td>\n",
              "    </tr>\n",
              "    <tr>\n",
              "      <th>378</th>\n",
              "      <td>patient164</td>\n",
              "      <td>n/a</td>\n",
              "      <td>[-0.08084020145879693, -0.10510108078474308, -...</td>\n",
              "    </tr>\n",
              "  </tbody>\n",
              "</table>\n",
              "</div>\n",
              "      <button class=\"colab-df-convert\" onclick=\"convertToInteractive('df-7b68484d-f40a-412c-ae97-ed4d63854cda')\"\n",
              "              title=\"Convert this dataframe to an interactive table.\"\n",
              "              style=\"display:none;\">\n",
              "        \n",
              "  <svg xmlns=\"http://www.w3.org/2000/svg\" height=\"24px\"viewBox=\"0 0 24 24\"\n",
              "       width=\"24px\">\n",
              "    <path d=\"M0 0h24v24H0V0z\" fill=\"none\"/>\n",
              "    <path d=\"M18.56 5.44l.94 2.06.94-2.06 2.06-.94-2.06-.94-.94-2.06-.94 2.06-2.06.94zm-11 1L8.5 8.5l.94-2.06 2.06-.94-2.06-.94L8.5 2.5l-.94 2.06-2.06.94zm10 10l.94 2.06.94-2.06 2.06-.94-2.06-.94-.94-2.06-.94 2.06-2.06.94z\"/><path d=\"M17.41 7.96l-1.37-1.37c-.4-.4-.92-.59-1.43-.59-.52 0-1.04.2-1.43.59L10.3 9.45l-7.72 7.72c-.78.78-.78 2.05 0 2.83L4 21.41c.39.39.9.59 1.41.59.51 0 1.02-.2 1.41-.59l7.78-7.78 2.81-2.81c.8-.78.8-2.07 0-2.86zM5.41 20L4 18.59l7.72-7.72 1.47 1.35L5.41 20z\"/>\n",
              "  </svg>\n",
              "      </button>\n",
              "      \n",
              "  <style>\n",
              "    .colab-df-container {\n",
              "      display:flex;\n",
              "      flex-wrap:wrap;\n",
              "      gap: 12px;\n",
              "    }\n",
              "\n",
              "    .colab-df-convert {\n",
              "      background-color: #E8F0FE;\n",
              "      border: none;\n",
              "      border-radius: 50%;\n",
              "      cursor: pointer;\n",
              "      display: none;\n",
              "      fill: #1967D2;\n",
              "      height: 32px;\n",
              "      padding: 0 0 0 0;\n",
              "      width: 32px;\n",
              "    }\n",
              "\n",
              "    .colab-df-convert:hover {\n",
              "      background-color: #E2EBFA;\n",
              "      box-shadow: 0px 1px 2px rgba(60, 64, 67, 0.3), 0px 1px 3px 1px rgba(60, 64, 67, 0.15);\n",
              "      fill: #174EA6;\n",
              "    }\n",
              "\n",
              "    [theme=dark] .colab-df-convert {\n",
              "      background-color: #3B4455;\n",
              "      fill: #D2E3FC;\n",
              "    }\n",
              "\n",
              "    [theme=dark] .colab-df-convert:hover {\n",
              "      background-color: #434B5C;\n",
              "      box-shadow: 0px 1px 3px 1px rgba(0, 0, 0, 0.15);\n",
              "      filter: drop-shadow(0px 1px 2px rgba(0, 0, 0, 0.3));\n",
              "      fill: #FFFFFF;\n",
              "    }\n",
              "  </style>\n",
              "\n",
              "      <script>\n",
              "        const buttonEl =\n",
              "          document.querySelector('#df-7b68484d-f40a-412c-ae97-ed4d63854cda button.colab-df-convert');\n",
              "        buttonEl.style.display =\n",
              "          google.colab.kernel.accessAllowed ? 'block' : 'none';\n",
              "\n",
              "        async function convertToInteractive(key) {\n",
              "          const element = document.querySelector('#df-7b68484d-f40a-412c-ae97-ed4d63854cda');\n",
              "          const dataTable =\n",
              "            await google.colab.kernel.invokeFunction('convertToInteractive',\n",
              "                                                     [key], {});\n",
              "          if (!dataTable) return;\n",
              "\n",
              "          const docLinkHtml = 'Like what you see? Visit the ' +\n",
              "            '<a target=\"_blank\" href=https://colab.research.google.com/notebooks/data_table.ipynb>data table notebook</a>'\n",
              "            + ' to learn more about interactive tables.';\n",
              "          element.innerHTML = '';\n",
              "          dataTable['output_type'] = 'display_data';\n",
              "          await google.colab.output.renderOutput(dataTable, element);\n",
              "          const docLink = document.createElement('div');\n",
              "          docLink.innerHTML = docLinkHtml;\n",
              "          element.appendChild(docLink);\n",
              "        }\n",
              "      </script>\n",
              "    </div>\n",
              "  </div>\n",
              "  "
            ]
          },
          "metadata": {},
          "execution_count": 5
        }
      ],
      "source": [
        "signals_post = []\n",
        "reasons = []\n",
        "channel = 1\n",
        "\n",
        "for record in records:\n",
        "    signals_post.append(normalize_ECG(remove_baseline(record, channel)))\n",
        "    reasons.append(parse_coms(record)['Diagnose']['Reason for admission'])\n",
        "    \n",
        "df = pd.DataFrame({'Patient': patients, 'Motive': reasons,'Signal': signals_post})\n",
        "df.sample(5)"
      ]
    },
    {
      "cell_type": "markdown",
      "id": "f73d13fa-30e2-4e65-b514-9614ad488f85",
      "metadata": {
        "id": "f73d13fa-30e2-4e65-b514-9614ad488f85"
      },
      "source": [
        "The admission reasons are the following, with the number of ECGs registered for each corresponding case:"
      ]
    },
    {
      "cell_type": "code",
      "execution_count": 6,
      "id": "2bb94442-f316-4126-8ec2-76eda281e4ea",
      "metadata": {
        "id": "2bb94442-f316-4126-8ec2-76eda281e4ea",
        "colab": {
          "base_uri": "https://localhost:8080/"
        },
        "outputId": "fe83a40f-847e-4109-d426-622aee61848d"
      },
      "outputs": [
        {
          "output_type": "execute_result",
          "data": {
            "text/plain": [
              "Myocardial infarction     368\n",
              "Healthy control            80\n",
              "n/a                        27\n",
              "Cardiomyopathy             17\n",
              "Bundle branch block        17\n",
              "Dysrhythmia                16\n",
              "Hypertrophy                 7\n",
              "Valvular heart disease      6\n",
              "Myocarditis                 4\n",
              "Stable angina               2\n",
              "Heart failure (NYHA 2)      1\n",
              "Heart failure (NYHA 3)      1\n",
              "Heart failure (NYHA 4)      1\n",
              "Palpitation                 1\n",
              "Unstable angina             1\n",
              "Name: Motive, dtype: int64"
            ]
          },
          "metadata": {},
          "execution_count": 6
        }
      ],
      "source": [
        "df.Motive.value_counts()"
      ]
    },
    {
      "cell_type": "markdown",
      "id": "5db77452-0d23-4d23-958e-921f8eb0ff96",
      "metadata": {
        "id": "5db77452-0d23-4d23-958e-921f8eb0ff96"
      },
      "source": [
        "After that, a quick eye check on every ECG, motive by motive, is performed to remove problematic signals. A signal is accepted if:\n",
        "- A full QRS complex is recorded and identified\n",
        "- There is no missing data inside the QRS complex (easily seen by fully horizontal lines)\n",
        "\n",
        "For the moment I'm holding these criteria, knowing that for a deeper analysis a different criterion may be needed for each motive. This one would be an example of an accepted ECG:"
      ]
    },
    {
      "cell_type": "code",
      "execution_count": 7,
      "id": "f22737d4-b2cd-4ab4-bbb3-d75fb7ec4ebf",
      "metadata": {
        "id": "f22737d4-b2cd-4ab4-bbb3-d75fb7ec4ebf",
        "colab": {
          "base_uri": "https://localhost:8080/",
          "height": 347
        },
        "outputId": "454c4664-e904-444c-ba02-95a1456cc708"
      },
      "outputs": [
        {
          "output_type": "stream",
          "name": "stderr",
          "text": [
            "/usr/local/lib/python3.7/dist-packages/ipykernel_launcher.py:1: UserWarning: Boolean Series key will be reindexed to match DataFrame index.\n",
            "  \"\"\"Entry point for launching an IPython kernel.\n"
          ]
        },
        {
          "output_type": "execute_result",
          "data": {
            "text/plain": [
              "Text(0, 0.5, 'Amplitude (norm)')"
            ]
          },
          "metadata": {},
          "execution_count": 7
        },
        {
          "output_type": "display_data",
          "data": {
            "text/plain": [
              "<Figure size 432x288 with 1 Axes>"
            ],
            "image/png": "[encoded data removed]"
          },
          "metadata": {
            "needs_background": "light"
          }
        }
      ],
      "source": [
        "plt.plot(df[df.Motive == 'Healthy control'][df.Patient == 'patient284'].iloc[0].Signal)\n",
        "plt.title('patient284')\n",
        "plt.xlabel('Time (ms)')\n",
        "plt.ylabel('Amplitude (norm)')"
      ]
    },
    {
      "cell_type": "markdown",
      "id": "50cc59f0-51ef-4099-9619-1df202e931be",
      "metadata": {
        "id": "50cc59f0-51ef-4099-9619-1df202e931be"
      },
      "source": [
        "And this one would be an example of an rejected ECG, with an incomplete pulse followed by a QRS complex with missing data:"
      ]
    },
    {
      "cell_type": "code",
      "execution_count": 8,
      "id": "9e643114-3cd4-4d8b-8597-8f1dd67d8b0f",
      "metadata": {
        "id": "9e643114-3cd4-4d8b-8597-8f1dd67d8b0f",
        "colab": {
          "base_uri": "https://localhost:8080/",
          "height": 347
        },
        "outputId": "11426dd5-a4c3-439d-f08d-640cb99f430a"
      },
      "outputs": [
        {
          "output_type": "stream",
          "name": "stderr",
          "text": [
            "/usr/local/lib/python3.7/dist-packages/ipykernel_launcher.py:1: UserWarning: Boolean Series key will be reindexed to match DataFrame index.\n",
            "  \"\"\"Entry point for launching an IPython kernel.\n"
          ]
        },
        {
          "output_type": "execute_result",
          "data": {
            "text/plain": [
              "Text(0, 0.5, 'Amplitude (norm)')"
            ]
          },
          "metadata": {},
          "execution_count": 8
        },
        {
          "output_type": "display_data",
          "data": {
            "text/plain": [
              "<Figure size 432x288 with 1 Axes>"
            ],
            "image/png": "[encoded data removed]"
          },
          "metadata": {
            "needs_background": "light"
          }
        }
      ],
      "source": [
        "plt.plot(df[df.Motive == 'Healthy control'][df.Patient == 'patient255'].iloc[0].Signal)\n",
        "plt.title('patient255')\n",
        "plt.xlabel('Time (ms)')\n",
        "plt.ylabel('Amplitude (norm)')"
      ]
    },
    {
      "cell_type": "markdown",
      "id": "8db90c23-972c-4ab3-9214-821826a1a1cd",
      "metadata": {
        "id": "8db90c23-972c-4ab3-9214-821826a1a1cd"
      },
      "source": [
        "In case of not having enough data to feed a CNN, we could always increase the sampling window of the ECG signal and extract a complete QRS complex.\n",
        "\n",
        "After a full eye check of the entire dataset, I am going to drop the following patients:"
      ]
    },
    {
      "cell_type": "code",
      "execution_count": 9,
      "id": "1aad162b-10f9-45f8-a4e2-9eabb4e076c8",
      "metadata": {
        "id": "1aad162b-10f9-45f8-a4e2-9eabb4e076c8",
        "colab": {
          "base_uri": "https://localhost:8080/",
          "height": 241
        },
        "outputId": "f825cdaf-e0a9-4c9f-a174-a0347fe1b7a4"
      },
      "outputs": [
        {
          "output_type": "stream",
          "name": "stdout",
          "text": [
            "Full dataset shape: (549,)\n",
            "Processed dataset shape: (458,)\n"
          ]
        },
        {
          "output_type": "execute_result",
          "data": {
            "text/plain": [
              "        Patient                 Motive  \\\n",
              "59   patient021  Myocardial infarction   \n",
              "53   patient019  Myocardial infarction   \n",
              "155  patient049  Myocardial infarction   \n",
              "532  patient283  Myocardial infarction   \n",
              "293  patient096  Myocardial infarction   \n",
              "\n",
              "                                                Signal  \n",
              "59   [0.1325185338552518, 0.1261648998300495, 0.132...  \n",
              "53   [-0.004162356788121622, -0.01191937009091304, ...  \n",
              "155  [0.012741607687260556, 0.0008239670287291364, ...  \n",
              "532  [-0.0031294541897010576, 0.00276092390767191, ...  \n",
              "293  [0.01740249831574116, 0.022846160922183015, 0....  "
            ],
            "text/html": [
              "\n",
              "  <div id=\"df-6b192318-462a-4f4c-b3ce-c86f99f6d7b4\">\n",
              "    <div class=\"colab-df-container\">\n",
              "      <div>\n",
              "<style scoped>\n",
              "    .dataframe tbody tr th:only-of-type {\n",
              "        vertical-align: middle;\n",
              "    }\n",
              "\n",
              "    .dataframe tbody tr th {\n",
              "        vertical-align: top;\n",
              "    }\n",
              "\n",
              "    .dataframe thead th {\n",
              "        text-align: right;\n",
              "    }\n",
              "</style>\n",
              "<table border=\"1\" class=\"dataframe\">\n",
              "  <thead>\n",
              "    <tr style=\"text-align: right;\">\n",
              "      <th></th>\n",
              "      <th>Patient</th>\n",
              "      <th>Motive</th>\n",
              "      <th>Signal</th>\n",
              "    </tr>\n",
              "  </thead>\n",
              "  <tbody>\n",
              "    <tr>\n",
              "      <th>59</th>\n",
              "      <td>patient021</td>\n",
              "      <td>Myocardial infarction</td>\n",
              "      <td>[0.1325185338552518, 0.1261648998300495, 0.132...</td>\n",
              "    </tr>\n",
              "    <tr>\n",
              "      <th>53</th>\n",
              "      <td>patient019</td>\n",
              "      <td>Myocardial infarction</td>\n",
              "      <td>[-0.004162356788121622, -0.01191937009091304, ...</td>\n",
              "    </tr>\n",
              "    <tr>\n",
              "      <th>155</th>\n",
              "      <td>patient049</td>\n",
              "      <td>Myocardial infarction</td>\n",
              "      <td>[0.012741607687260556, 0.0008239670287291364, ...</td>\n",
              "    </tr>\n",
              "    <tr>\n",
              "      <th>532</th>\n",
              "      <td>patient283</td>\n",
              "      <td>Myocardial infarction</td>\n",
              "      <td>[-0.0031294541897010576, 0.00276092390767191, ...</td>\n",
              "    </tr>\n",
              "    <tr>\n",
              "      <th>293</th>\n",
              "      <td>patient096</td>\n",
              "      <td>Myocardial infarction</td>\n",
              "      <td>[0.01740249831574116, 0.022846160922183015, 0....</td>\n",
              "    </tr>\n",
              "  </tbody>\n",
              "</table>\n",
              "</div>\n",
              "      <button class=\"colab-df-convert\" onclick=\"convertToInteractive('df-6b192318-462a-4f4c-b3ce-c86f99f6d7b4')\"\n",
              "              title=\"Convert this dataframe to an interactive table.\"\n",
              "              style=\"display:none;\">\n",
              "        \n",
              "  <svg xmlns=\"http://www.w3.org/2000/svg\" height=\"24px\"viewBox=\"0 0 24 24\"\n",
              "       width=\"24px\">\n",
              "    <path d=\"M0 0h24v24H0V0z\" fill=\"none\"/>\n",
              "    <path d=\"M18.56 5.44l.94 2.06.94-2.06 2.06-.94-2.06-.94-.94-2.06-.94 2.06-2.06.94zm-11 1L8.5 8.5l.94-2.06 2.06-.94-2.06-.94L8.5 2.5l-.94 2.06-2.06.94zm10 10l.94 2.06.94-2.06 2.06-.94-2.06-.94-.94-2.06-.94 2.06-2.06.94z\"/><path d=\"M17.41 7.96l-1.37-1.37c-.4-.4-.92-.59-1.43-.59-.52 0-1.04.2-1.43.59L10.3 9.45l-7.72 7.72c-.78.78-.78 2.05 0 2.83L4 21.41c.39.39.9.59 1.41.59.51 0 1.02-.2 1.41-.59l7.78-7.78 2.81-2.81c.8-.78.8-2.07 0-2.86zM5.41 20L4 18.59l7.72-7.72 1.47 1.35L5.41 20z\"/>\n",
              "  </svg>\n",
              "      </button>\n",
              "      \n",
              "  <style>\n",
              "    .colab-df-container {\n",
              "      display:flex;\n",
              "      flex-wrap:wrap;\n",
              "      gap: 12px;\n",
              "    }\n",
              "\n",
              "    .colab-df-convert {\n",
              "      background-color: #E8F0FE;\n",
              "      border: none;\n",
              "      border-radius: 50%;\n",
              "      cursor: pointer;\n",
              "      display: none;\n",
              "      fill: #1967D2;\n",
              "      height: 32px;\n",
              "      padding: 0 0 0 0;\n",
              "      width: 32px;\n",
              "    }\n",
              "\n",
              "    .colab-df-convert:hover {\n",
              "      background-color: #E2EBFA;\n",
              "      box-shadow: 0px 1px 2px rgba(60, 64, 67, 0.3), 0px 1px 3px 1px rgba(60, 64, 67, 0.15);\n",
              "      fill: #174EA6;\n",
              "    }\n",
              "\n",
              "    [theme=dark] .colab-df-convert {\n",
              "      background-color: #3B4455;\n",
              "      fill: #D2E3FC;\n",
              "    }\n",
              "\n",
              "    [theme=dark] .colab-df-convert:hover {\n",
              "      background-color: #434B5C;\n",
              "      box-shadow: 0px 1px 3px 1px rgba(0, 0, 0, 0.15);\n",
              "      filter: drop-shadow(0px 1px 2px rgba(0, 0, 0, 0.3));\n",
              "      fill: #FFFFFF;\n",
              "    }\n",
              "  </style>\n",
              "\n",
              "      <script>\n",
              "        const buttonEl =\n",
              "          document.querySelector('#df-6b192318-462a-4f4c-b3ce-c86f99f6d7b4 button.colab-df-convert');\n",
              "        buttonEl.style.display =\n",
              "          google.colab.kernel.accessAllowed ? 'block' : 'none';\n",
              "\n",
              "        async function convertToInteractive(key) {\n",
              "          const element = document.querySelector('#df-6b192318-462a-4f4c-b3ce-c86f99f6d7b4');\n",
              "          const dataTable =\n",
              "            await google.colab.kernel.invokeFunction('convertToInteractive',\n",
              "                                                     [key], {});\n",
              "          if (!dataTable) return;\n",
              "\n",
              "          const docLinkHtml = 'Like what you see? Visit the ' +\n",
              "            '<a target=\"_blank\" href=https://colab.research.google.com/notebooks/data_table.ipynb>data table notebook</a>'\n",
              "            + ' to learn more about interactive tables.';\n",
              "          element.innerHTML = '';\n",
              "          dataTable['output_type'] = 'display_data';\n",
              "          await google.colab.output.renderOutput(dataTable, element);\n",
              "          const docLink = document.createElement('div');\n",
              "          docLink.innerHTML = docLinkHtml;\n",
              "          element.appendChild(docLink);\n",
              "        }\n",
              "      </script>\n",
              "    </div>\n",
              "  </div>\n",
              "  "
            ]
          },
          "metadata": {},
          "execution_count": 9
        }
      ],
      "source": [
        "todrop_patients= {'Healthy control': [150, 165, 174, 236, 245, 255, 277], \n",
        "                  'Myocardial infarction': [7, 14, 18, 23, 44, 45, 59, 65, 67, 72, 73, 75, 79, 81, 86, 93, 99, 100, 183, 197],\n",
        "                  'n/a': [136, 186, 194, 285],\n",
        "                  'Cardiomyopathy': [127, 215],\n",
        "                  'Bundle branch block': [219, 225],\n",
        "                  'Dysrhythmia': [],\n",
        "                  'Hypertrophy': [212, 227],\n",
        "                  'Valvular heart disease': [188]}\n",
        "\n",
        "patients_todrop = ['patient'+str(item).zfill(3) for item in sum(list(todrop_patients.values()), [])]\n",
        "\n",
        "df_ECG = df[~df.Patient.isin(patients_todrop)].copy()\n",
        "\n",
        "print('Full dataset shape: '+ str(np.shape(df.Signal)))\n",
        "print('Processed dataset shape: ' + str(np.shape(df_ECG.Signal)))\n",
        "\n",
        "df_ECG.sample(5)"
      ]
    },
    {
      "cell_type": "markdown",
      "id": "b478e70a-4073-4849-961a-94551b0c69a8",
      "metadata": {
        "id": "b478e70a-4073-4849-961a-94551b0c69a8"
      },
      "source": [
        "### Labelling the data\n",
        "\n",
        "I will address the QRS detection as a supervised classification problem. It will imply a labelling process, where we tell the neural network what a QRS complex is, and what is not. In this case, I will:\n",
        "- Extract a pulse for every signal by a rudimentary detection of the maximum of the signal and center the pulse in the R peak,\n",
        "- Take points at each side so we can include the Q and S peaks as well as the pulse baseline\n",
        "- Label those points as 1 (affirmative detection of a QRS signal)\n",
        "- Label the rest at 0 (negative detection of a QRS signal)\n",
        "\n",
        "In literature, Sarlija, M., Jurisic F., Popovic S. (2017) used a +-40 ms window for QRS labelling. Here, as a window I will use +-120 ms for the whole crop and +-60 ms from the R peak for the QRS labelling.\n",
        "\n",
        "These values can be tuned in case the false positive rate is high after the training process."
      ]
    },
    {
      "cell_type": "code",
      "execution_count": 10,
      "id": "bc2d3fc9-d7c0-4b30-975a-d91f8918c297",
      "metadata": {
        "id": "bc2d3fc9-d7c0-4b30-975a-d91f8918c297",
        "colab": {
          "base_uri": "https://localhost:8080/",
          "height": 206
        },
        "outputId": "07620536-a562-44bb-d64f-8492c219c48e"
      },
      "outputs": [
        {
          "output_type": "execute_result",
          "data": {
            "text/plain": [
              "        Patient                 Motive  \\\n",
              "532  patient283  Myocardial infarction   \n",
              "6    patient004  Myocardial infarction   \n",
              "125  patient041  Myocardial infarction   \n",
              "411  patient185        Healthy control   \n",
              "336  patient122        Healthy control   \n",
              "\n",
              "                                                Signal  \\\n",
              "532  [-0.0031294541897010576, 0.00276092390767191, ...   \n",
              "6    [-0.04149536737475799, -0.033843181339449795, ...   \n",
              "125  [0.09285498066300953, 0.0561022260813184, 0.01...   \n",
              "411  [0.014734741959504447, 0.010156694850382826, 0...   \n",
              "336  [0.0008144279825587869, 0.004002581535158309, ...   \n",
              "\n",
              "                                          Label_Signal  \\\n",
              "532  [0.0, 0.0, 0.0, 0.0, 0.0, 0.0, 0.0, 0.0, 0.0, ...   \n",
              "6    [0.0, 0.0, 0.0, 0.0, 0.0, 0.0, 0.0, 0.0, 0.0, ...   \n",
              "125  [0.0, 0.0, 0.0, 0.0, 0.0, 0.0, 0.0, 0.0, 0.0, ...   \n",
              "411  [0.0, 0.0, 0.0, 0.0, 0.0, 0.0, 0.0, 0.0, 0.0, ...   \n",
              "336  [0.0, 0.0, 0.0, 0.0, 0.0, 0.0, 0.0, 0.0, 0.0, ...   \n",
              "\n",
              "                                           Signal_crop  \\\n",
              "532  [-0.005509170071001319, -0.002882120827833375,...   \n",
              "6    [0.005841245379294544, -0.04951375534938502, -...   \n",
              "125  [0.012740398315879769, 0.07465134118538906, 0....   \n",
              "411                                                 []   \n",
              "336  [0.03927858584823919, 0.024545640905909594, 0....   \n",
              "\n",
              "                                            Label_crop  \n",
              "532  [0.0, 0.0, 0.0, 0.0, 0.0, 0.0, 0.0, 0.0, 0.0, ...  \n",
              "6    [0.0, 0.0, 0.0, 0.0, 0.0, 0.0, 0.0, 0.0, 0.0, ...  \n",
              "125  [0.0, 0.0, 0.0, 0.0, 0.0, 0.0, 0.0, 0.0, 0.0, ...  \n",
              "411                                                 []  \n",
              "336  [0.0, 0.0, 0.0, 0.0, 0.0, 0.0, 0.0, 0.0, 0.0, ...  "
            ],
            "text/html": [
              "\n",
              "  <div id=\"df-a6f45a13-fab0-4c4e-98f3-c31a1575b140\">\n",
              "    <div class=\"colab-df-container\">\n",
              "      <div>\n",
              "<style scoped>\n",
              "    .dataframe tbody tr th:only-of-type {\n",
              "        vertical-align: middle;\n",
              "    }\n",
              "\n",
              "    .dataframe tbody tr th {\n",
              "        vertical-align: top;\n",
              "    }\n",
              "\n",
              "    .dataframe thead th {\n",
              "        text-align: right;\n",
              "    }\n",
              "</style>\n",
              "<table border=\"1\" class=\"dataframe\">\n",
              "  <thead>\n",
              "    <tr style=\"text-align: right;\">\n",
              "      <th></th>\n",
              "      <th>Patient</th>\n",
              "      <th>Motive</th>\n",
              "      <th>Signal</th>\n",
              "      <th>Label_Signal</th>\n",
              "      <th>Signal_crop</th>\n",
              "      <th>Label_crop</th>\n",
              "    </tr>\n",
              "  </thead>\n",
              "  <tbody>\n",
              "    <tr>\n",
              "      <th>532</th>\n",
              "      <td>patient283</td>\n",
              "      <td>Myocardial infarction</td>\n",
              "      <td>[-0.0031294541897010576, 0.00276092390767191, ...</td>\n",
              "      <td>[0.0, 0.0, 0.0, 0.0, 0.0, 0.0, 0.0, 0.0, 0.0, ...</td>\n",
              "      <td>[-0.005509170071001319, -0.002882120827833375,...</td>\n",
              "      <td>[0.0, 0.0, 0.0, 0.0, 0.0, 0.0, 0.0, 0.0, 0.0, ...</td>\n",
              "    </tr>\n",
              "    <tr>\n",
              "      <th>6</th>\n",
              "      <td>patient004</td>\n",
              "      <td>Myocardial infarction</td>\n",
              "      <td>[-0.04149536737475799, -0.033843181339449795, ...</td>\n",
              "      <td>[0.0, 0.0, 0.0, 0.0, 0.0, 0.0, 0.0, 0.0, 0.0, ...</td>\n",
              "      <td>[0.005841245379294544, -0.04951375534938502, -...</td>\n",
              "      <td>[0.0, 0.0, 0.0, 0.0, 0.0, 0.0, 0.0, 0.0, 0.0, ...</td>\n",
              "    </tr>\n",
              "    <tr>\n",
              "      <th>125</th>\n",
              "      <td>patient041</td>\n",
              "      <td>Myocardial infarction</td>\n",
              "      <td>[0.09285498066300953, 0.0561022260813184, 0.01...</td>\n",
              "      <td>[0.0, 0.0, 0.0, 0.0, 0.0, 0.0, 0.0, 0.0, 0.0, ...</td>\n",
              "      <td>[0.012740398315879769, 0.07465134118538906, 0....</td>\n",
              "      <td>[0.0, 0.0, 0.0, 0.0, 0.0, 0.0, 0.0, 0.0, 0.0, ...</td>\n",
              "    </tr>\n",
              "    <tr>\n",
              "      <th>411</th>\n",
              "      <td>patient185</td>\n",
              "      <td>Healthy control</td>\n",
              "      <td>[0.014734741959504447, 0.010156694850382826, 0...</td>\n",
              "      <td>[0.0, 0.0, 0.0, 0.0, 0.0, 0.0, 0.0, 0.0, 0.0, ...</td>\n",
              "      <td>[]</td>\n",
              "      <td>[]</td>\n",
              "    </tr>\n",
              "    <tr>\n",
              "      <th>336</th>\n",
              "      <td>patient122</td>\n",
              "      <td>Healthy control</td>\n",
              "      <td>[0.0008144279825587869, 0.004002581535158309, ...</td>\n",
              "      <td>[0.0, 0.0, 0.0, 0.0, 0.0, 0.0, 0.0, 0.0, 0.0, ...</td>\n",
              "      <td>[0.03927858584823919, 0.024545640905909594, 0....</td>\n",
              "      <td>[0.0, 0.0, 0.0, 0.0, 0.0, 0.0, 0.0, 0.0, 0.0, ...</td>\n",
              "    </tr>\n",
              "  </tbody>\n",
              "</table>\n",
              "</div>\n",
              "      <button class=\"colab-df-convert\" onclick=\"convertToInteractive('df-a6f45a13-fab0-4c4e-98f3-c31a1575b140')\"\n",
              "              title=\"Convert this dataframe to an interactive table.\"\n",
              "              style=\"display:none;\">\n",
              "        \n",
              "  <svg xmlns=\"http://www.w3.org/2000/svg\" height=\"24px\"viewBox=\"0 0 24 24\"\n",
              "       width=\"24px\">\n",
              "    <path d=\"M0 0h24v24H0V0z\" fill=\"none\"/>\n",
              "    <path d=\"M18.56 5.44l.94 2.06.94-2.06 2.06-.94-2.06-.94-.94-2.06-.94 2.06-2.06.94zm-11 1L8.5 8.5l.94-2.06 2.06-.94-2.06-.94L8.5 2.5l-.94 2.06-2.06.94zm10 10l.94 2.06.94-2.06 2.06-.94-2.06-.94-.94-2.06-.94 2.06-2.06.94z\"/><path d=\"M17.41 7.96l-1.37-1.37c-.4-.4-.92-.59-1.43-.59-.52 0-1.04.2-1.43.59L10.3 9.45l-7.72 7.72c-.78.78-.78 2.05 0 2.83L4 21.41c.39.39.9.59 1.41.59.51 0 1.02-.2 1.41-.59l7.78-7.78 2.81-2.81c.8-.78.8-2.07 0-2.86zM5.41 20L4 18.59l7.72-7.72 1.47 1.35L5.41 20z\"/>\n",
              "  </svg>\n",
              "      </button>\n",
              "      \n",
              "  <style>\n",
              "    .colab-df-container {\n",
              "      display:flex;\n",
              "      flex-wrap:wrap;\n",
              "      gap: 12px;\n",
              "    }\n",
              "\n",
              "    .colab-df-convert {\n",
              "      background-color: #E8F0FE;\n",
              "      border: none;\n",
              "      border-radius: 50%;\n",
              "      cursor: pointer;\n",
              "      display: none;\n",
              "      fill: #1967D2;\n",
              "      height: 32px;\n",
              "      padding: 0 0 0 0;\n",
              "      width: 32px;\n",
              "    }\n",
              "\n",
              "    .colab-df-convert:hover {\n",
              "      background-color: #E2EBFA;\n",
              "      box-shadow: 0px 1px 2px rgba(60, 64, 67, 0.3), 0px 1px 3px 1px rgba(60, 64, 67, 0.15);\n",
              "      fill: #174EA6;\n",
              "    }\n",
              "\n",
              "    [theme=dark] .colab-df-convert {\n",
              "      background-color: #3B4455;\n",
              "      fill: #D2E3FC;\n",
              "    }\n",
              "\n",
              "    [theme=dark] .colab-df-convert:hover {\n",
              "      background-color: #434B5C;\n",
              "      box-shadow: 0px 1px 3px 1px rgba(0, 0, 0, 0.15);\n",
              "      filter: drop-shadow(0px 1px 2px rgba(0, 0, 0, 0.3));\n",
              "      fill: #FFFFFF;\n",
              "    }\n",
              "  </style>\n",
              "\n",
              "      <script>\n",
              "        const buttonEl =\n",
              "          document.querySelector('#df-a6f45a13-fab0-4c4e-98f3-c31a1575b140 button.colab-df-convert');\n",
              "        buttonEl.style.display =\n",
              "          google.colab.kernel.accessAllowed ? 'block' : 'none';\n",
              "\n",
              "        async function convertToInteractive(key) {\n",
              "          const element = document.querySelector('#df-a6f45a13-fab0-4c4e-98f3-c31a1575b140');\n",
              "          const dataTable =\n",
              "            await google.colab.kernel.invokeFunction('convertToInteractive',\n",
              "                                                     [key], {});\n",
              "          if (!dataTable) return;\n",
              "\n",
              "          const docLinkHtml = 'Like what you see? Visit the ' +\n",
              "            '<a target=\"_blank\" href=https://colab.research.google.com/notebooks/data_table.ipynb>data table notebook</a>'\n",
              "            + ' to learn more about interactive tables.';\n",
              "          element.innerHTML = '';\n",
              "          dataTable['output_type'] = 'display_data';\n",
              "          await google.colab.output.renderOutput(dataTable, element);\n",
              "          const docLink = document.createElement('div');\n",
              "          docLink.innerHTML = docLinkHtml;\n",
              "          element.appendChild(docLink);\n",
              "        }\n",
              "      </script>\n",
              "    </div>\n",
              "  </div>\n",
              "  "
            ]
          },
          "metadata": {},
          "execution_count": 10
        }
      ],
      "source": [
        "def crop_sig(signal, y, from_v, to_v):\n",
        "    \"\"\" Crops the signal between two given intervals \n",
        "    \n",
        "    Takes a window of the signal between two points and centered in the maximum value \n",
        "    \n",
        "    Input: \n",
        "        signal: list or array of floats\n",
        "        x:  list or array of floats \n",
        "        from_v: int\n",
        "        to_v: int\n",
        "        \n",
        "    Returns:\n",
        "        [signal list, y list]\n",
        "    \"\"\"\n",
        "    locmax = int(np.where(signal == signal.max())[0])\n",
        "    return [signal[locmax-from_v: locmax+from_v], y[locmax-from_v: locmax+from_v]]\n",
        "\n",
        "def QRS_label(signal, from_v, to_v):\n",
        "    \"\"\" Labels the signal between two points as 1 and the rest of the signal as 0\n",
        "    \n",
        "    Input: \n",
        "        signal: list or array of floats\n",
        "        from_v: int\n",
        "        to_v: int\n",
        "        \n",
        "    Returns:\n",
        "        y: list of ints\n",
        "    \"\"\"\n",
        "    locmax = int(np.where(signal == signal.max())[0])\n",
        "    y = np.zeros(len(signal))\n",
        "    y[locmax-from_v: locmax+from_v] = 1\n",
        "    return y\n",
        "\n",
        "df_ECG['Label_Signal'] = df_ECG.Signal.apply(lambda x: QRS_label(x, 60, 60))\n",
        "df_ECG['Signal_crop'] = df_ECG.apply(lambda x: crop_sig(x.Signal, x.Label_Signal, 120, 120), axis=1).apply(lambda x: x[0])\n",
        "df_ECG['Label_crop'] = df_ECG.apply(lambda x: crop_sig(x.Signal, x.Label_Signal, 120, 120), axis=1).apply(lambda x: x[1])\n",
        "\n",
        "df_ECG.sample(5)"
      ]
    },
    {
      "cell_type": "markdown",
      "id": "dd54162b-ad0f-4e4d-a564-2a55d812e8f6",
      "metadata": {
        "id": "dd54162b-ad0f-4e4d-a564-2a55d812e8f6"
      },
      "source": [
        "As an example, this would be one of the entries of the dataset:"
      ]
    },
    {
      "cell_type": "code",
      "execution_count": 11,
      "id": "b7156ef0-4274-4ba8-a427-ddaea3248e14",
      "metadata": {
        "id": "b7156ef0-4274-4ba8-a427-ddaea3248e14",
        "colab": {
          "base_uri": "https://localhost:8080/",
          "height": 312
        },
        "outputId": "3bc643b2-3e38-4569-d40b-ecb31aad2c8d"
      },
      "outputs": [
        {
          "output_type": "execute_result",
          "data": {
            "text/plain": [
              "<matplotlib.legend.Legend at 0x7f20b7ecc850>"
            ]
          },
          "metadata": {},
          "execution_count": 11
        },
        {
          "output_type": "display_data",
          "data": {
            "text/plain": [
              "<Figure size 432x288 with 1 Axes>"
            ],
            "image/png": "[encoded data removed]"
          },
          "metadata": {
            "needs_background": "light"
          }
        }
      ],
      "source": [
        "sig_example = df_ECG.iloc[8]\n",
        "\n",
        "plt.plot(df_ECG.Signal_crop.iloc[8])\n",
        "plt.plot(np.where(sig_example.Label_crop!=0)[0], \n",
        "         sig_example.Label_crop[np.where(sig_example.Label_crop!=0)]*sig_example.Signal_crop[np.where(sig_example.Label_crop!=0)], \n",
        "         '.', label = 'QRS complex')\n",
        "plt.title(df_ECG.Patient.iloc[8])\n",
        "plt.xlabel('Time (ms)')\n",
        "plt.ylabel('Amplitude (norm)')\n",
        "plt.legend()"
      ]
    },
    {
      "cell_type": "markdown",
      "id": "b3f718d7-8983-44c7-b6a5-7d626846b622",
      "metadata": {
        "id": "b3f718d7-8983-44c7-b6a5-7d626846b622"
      },
      "source": [
        "The final dataset now has the following structure:\n",
        "\n",
        "- 458 signals, each of them with a length of 240 points\n",
        "- 458 label vectors, each of them with a length of 240 points\n",
        "\n",
        "A proposal for a 1D-CNN would be the structure implemented in Sarlija, M., Jurisic F., Popovic S. (2017):"
      ]
    },
    {
      "cell_type": "code",
      "execution_count": 12,
      "id": "d71283b8-162c-42e8-b549-038c34b92f01",
      "metadata": {
        "id": "d71283b8-162c-42e8-b549-038c34b92f01",
        "colab": {
          "base_uri": "https://localhost:8080/"
        },
        "outputId": "da4bb588-92d6-4449-cebc-a3f961dab299"
      },
      "outputs": [
        {
          "output_type": "stream",
          "name": "stdout",
          "text": [
            "Model: \"sequential\"\n",
            "_________________________________________________________________\n",
            " Layer (type)                Output Shape              Param #   \n",
            "=================================================================\n",
            " conv1d (Conv1D)             (None, 236, 32)           192       \n",
            "                                                                 \n",
            " dropout (Dropout)           (None, 236, 32)           0         \n",
            "                                                                 \n",
            " max_pooling1d (MaxPooling1D  (None, 117, 32)          0         \n",
            " )                                                               \n",
            "                                                                 \n",
            " conv1d_1 (Conv1D)           (None, 113, 32)           5152      \n",
            "                                                                 \n",
            " dropout_1 (Dropout)         (None, 113, 32)           0         \n",
            "                                                                 \n",
            " dense (Dense)               (None, 113, 32)           1056      \n",
            "                                                                 \n",
            " dropout_2 (Dropout)         (None, 113, 32)           0         \n",
            "                                                                 \n",
            " dense_1 (Dense)             (None, 113, 32)           1056      \n",
            "                                                                 \n",
            " dropout_3 (Dropout)         (None, 113, 32)           0         \n",
            "                                                                 \n",
            " softmax (Softmax)           (None, 113, 32)           0         \n",
            "                                                                 \n",
            "=================================================================\n",
            "Total params: 7,456\n",
            "Trainable params: 7,456\n",
            "Non-trainable params: 0\n",
            "_________________________________________________________________\n"
          ]
        }
      ],
      "source": [
        "input_shape = (240, 1) \n",
        "\n",
        "model = models.Sequential([\n",
        "    layers.Input(shape=input_shape),\n",
        "    layers.Conv1D(32, 5, strides = 1, activation='relu'),\n",
        "    layers.Dropout(0.5),\n",
        "    layers.MaxPool1D(pool_size=3, strides=2, padding='valid'),\n",
        "    layers.Conv1D(32, 5, strides=1, activation='relu'),\n",
        "    layers.Dropout(0.5),\n",
        "    layers.Dense(32, activation='relu'),\n",
        "    layers.Dropout(0.5),\n",
        "    layers.Dense(32, activation='relu'),\n",
        "    layers.Dropout(0.5),\n",
        "    layers.Softmax()\n",
        "])\n",
        "model.summary()\n",
        "\n",
        "model.compile(optimizer='adam',\n",
        "              loss=tf.keras.losses.SparseCategoricalCrossentropy(from_logits=True),\n",
        "              metrics=['accuracy'])"
      ]
    },
    {
      "cell_type": "markdown",
      "id": "449168d3-55c7-443f-92b1-7a19cadc12c9",
      "metadata": {
        "id": "449168d3-55c7-443f-92b1-7a19cadc12c9"
      },
      "source": [
        "The following steps would be the splitting of the dataset in train, validation, test:\n",
        "- Train (80%)\n",
        "- Validation (10%)\n",
        "- Test (10%)\n",
        "\n",
        "In this case, it is important that all the motive classes are balanced within the three splits. That is, that there is not an undersampling of specific clases (lack of 'Healthy control', for example). In case these data would be insuficient, it is possible to increase the data sample by taking longer sampling windows and extracting several pulses from them.\n",
        "\n",
        "Finally, the network would be ready to be trained after arranging the data in the right input format."
      ]
    },
    {
      "cell_type": "code",
      "execution_count": null,
      "id": "3c303d69-cd60-433f-9698-dd90d4a73260",
      "metadata": {
        "id": "3c303d69-cd60-433f-9698-dd90d4a73260"
      },
      "outputs": [],
      "source": []
    }
  ],
  "metadata": {
    "kernelspec": {
      "display_name": "Python 3 (ipykernel)",
      "language": "python",
      "name": "python3"
    },
    "language_info": {
      "codemirror_mode": {
        "name": "ipython",
        "version": 3
      },
      "file_extension": ".py",
      "mimetype": "text/x-python",
      "name": "python",
      "nbconvert_exporter": "python",
      "pygments_lexer": "ipython3",
      "version": "3.8.10"
    },
    "colab": {
      "provenance": [],
      "collapsed_sections": [],
      "include_colab_link": true
    }
  },
  "nbformat": 4,
  "nbformat_minor": 5
}