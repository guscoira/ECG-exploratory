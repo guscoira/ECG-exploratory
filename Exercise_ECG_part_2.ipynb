{
 "cells": [
  {
   "cell_type": "code",
   "execution_count": 126,
   "id": "c5491e3e-a14f-4afc-bee2-91e4b070c3c7",
   "metadata": {},
   "outputs": [],
   "source": [
    "!pip install wfdb\n",
    "import wfdb\n",
    "import pandas as pd\n",
    "from wfdb import processing\n",
    "from matplotlib import pyplot as plt\n",
    "import numpy as np\n",
    "import statsmodels.api as sm\n",
    "\n",
    "import tensorflow as tf\n",
    "from tensorflow.keras import layers\n",
    "from tensorflow.keras import models"
   ]
  },
  {
   "cell_type": "code",
   "execution_count": 126,
   "id": "c582d071-1742-4379-8bba-98e6cec25df4",
   "metadata": {},
   "outputs": [
    {
     "name": "stdout",
     "output_type": "stream",
     "text": [
      "Requirement already satisfied: wfdb in /home/gcoira/.local/lib/python3.8/site-packages (4.0.0)\n",
      "Requirement already satisfied: numpy<2.0.0,>=1.10.1 in /home/gcoira/.local/lib/python3.8/site-packages (from wfdb) (1.22.3)\n",
      "Requirement already satisfied: pandas<2.0.0,>=1.0.0 in /home/gcoira/.local/lib/python3.8/site-packages (from wfdb) (1.3.4)\n",
      "Requirement already satisfied: requests<3.0.0,>=2.8.1 in /home/gcoira/.local/lib/python3.8/site-packages (from wfdb) (2.27.1)\n",
      "Requirement already satisfied: scipy<2.0.0,>=1.0.0 in /home/gcoira/.local/lib/python3.8/site-packages (from wfdb) (1.8.0)\n",
      "Requirement already satisfied: matplotlib<4.0.0,>=3.2.2 in /home/gcoira/.local/lib/python3.8/site-packages (from wfdb) (3.4.3)\n",
      "Requirement already satisfied: SoundFile<0.12.0,>=0.10.0 in /home/gcoira/.local/lib/python3.8/site-packages (from wfdb) (0.10.3.post1)\n",
      "Requirement already satisfied: pytz>=2017.3 in /usr/lib/python3/dist-packages (from pandas<2.0.0,>=1.0.0->wfdb) (2019.3)\n",
      "Requirement already satisfied: python-dateutil>=2.7.3 in /usr/lib/python3/dist-packages (from pandas<2.0.0,>=1.0.0->wfdb) (2.7.3)\n",
      "Requirement already satisfied: urllib3<1.27,>=1.21.1 in /usr/lib/python3/dist-packages (from requests<3.0.0,>=2.8.1->wfdb) (1.25.8)\n",
      "Requirement already satisfied: certifi>=2017.4.17 in /usr/lib/python3/dist-packages (from requests<3.0.0,>=2.8.1->wfdb) (2019.11.28)\n",
      "Requirement already satisfied: charset-normalizer~=2.0.0; python_version >= \"3\" in /home/gcoira/.local/lib/python3.8/site-packages (from requests<3.0.0,>=2.8.1->wfdb) (2.0.12)\n",
      "Requirement already satisfied: idna<4,>=2.5; python_version >= \"3\" in /usr/lib/python3/dist-packages (from requests<3.0.0,>=2.8.1->wfdb) (2.8)\n",
      "Requirement already satisfied: pillow>=6.2.0 in /home/gcoira/.local/lib/python3.8/site-packages (from matplotlib<4.0.0,>=3.2.2->wfdb) (9.0.1)\n",
      "Requirement already satisfied: pyparsing>=2.2.1 in /home/gcoira/.local/lib/python3.8/site-packages (from matplotlib<4.0.0,>=3.2.2->wfdb) (3.0.1)\n",
      "Requirement already satisfied: kiwisolver>=1.0.1 in /home/gcoira/.local/lib/python3.8/site-packages (from matplotlib<4.0.0,>=3.2.2->wfdb) (1.3.2)\n",
      "Requirement already satisfied: cycler>=0.10 in /home/gcoira/.local/lib/python3.8/site-packages (from matplotlib<4.0.0,>=3.2.2->wfdb) (0.10.0)\n",
      "Requirement already satisfied: cffi>=1.0 in /home/gcoira/.local/lib/python3.8/site-packages (from SoundFile<0.12.0,>=0.10.0->wfdb) (1.15.0)\n",
      "Requirement already satisfied: six in /usr/lib/python3/dist-packages (from cycler>=0.10->matplotlib<4.0.0,>=3.2.2->wfdb) (1.14.0)\n",
      "Requirement already satisfied: pycparser in /home/gcoira/.local/lib/python3.8/site-packages (from cffi>=1.0->SoundFile<0.12.0,>=0.10.0->wfdb) (2.20)\n"
     ]
    }
   ],
   "source": [
    "from google.colab import drive\n",
    "drive.mount('/content/drive')"
   ]
  },
  {
   "cell_type": "markdown",
   "id": "43c5a0ab-771b-4cc7-ae81-d08bafd43758",
   "metadata": {},
   "source": [
    "# A dataset for CNN-based QRS detection\n",
    "\n",
    "In the previous exercise I showed how to detect a QRS peak by traditional algorithms. Today, with the most recent computing capabilities, it is possible to obtain a better accuracy with the power of Deep Learning. Indeed, it is possible to train a CNN to detect QRS peaks. The purpose of this notebook is to build a dataset to feed such a CNN. \n",
    "\n",
    "As an input dataset we are taking the whole patients database and we define the sampling intervals for the ECGs. In this case the interval will be [0, 1.5s]"
   ]
  },
  {
   "cell_type": "code",
   "execution_count": 2,
   "id": "be69c9ab-e29b-4704-a21b-249b2c490426",
   "metadata": {},
   "outputs": [],
   "source": [
    "path = \"/content/drive/MyDrive/ECG/ptb-diagnostic-ecg-database-1.0.0/\"\n",
    "t_0 = 0\n",
    "t_fin = 1500\n",
    "\n",
    "with open(path + '/RECORDS') as f:\n",
    "    files = f.read().splitlines() \n",
    "    \n",
    "records = []\n",
    "patients = []\n",
    "\n",
    "for file in files:\n",
    "    records.append(wfdb.rdrecord(path + \"/\"+ file, sampfrom=t_0, sampto=t_fin)) # The units in samp are miliseconds, we sample 1.5 seconds\n",
    "    patients.append(file.split('/')[0])"
   ]
  },
  {
   "cell_type": "markdown",
   "id": "568dbbda-bcf4-4d41-8489-8ef2e297619b",
   "metadata": {},
   "source": [
    "The preprocessing of the signals are done in two steps:\n",
    "- Baseline removal: This step is needed to remove external signals from the ECG (such as breathing) so the CNN does not learn them as signal.\n",
    "- Signal normalization: This step is needed to guarantee that all the features are learned in the same scale."
   ]
  },
  {
   "cell_type": "code",
   "execution_count": 3,
   "id": "cd7a1de1-e67b-4eb7-a1a3-fbc2e25d6a30",
   "metadata": {},
   "outputs": [],
   "source": [
    "def remove_baseline(record, channel):\n",
    "    \"\"\" Removes the baseline from the ECG by applying a LOWESS smoother \"\"\"\n",
    "    \n",
    "    signal_0 = record.p_signal[:, channel]\n",
    "    x = np.arange(len(signal_0))\n",
    "    baseline = sm.nonparametric.lowess(signal_0, x, frac = 0.05) \n",
    "    signal_b = signal_0-baseline[:, 1]\n",
    "    return signal_b\n",
    "\n",
    "def normalize_ECG(signal):\n",
    "    \"\"\" Normalizes the signal\n",
    "    \n",
    "    The normalized signal is centered in the interval [-1, 1]\n",
    "    \n",
    "    \"\"\"\n",
    "    \n",
    "    norm = max(signal.max(), abs(signal.min()))\n",
    "    return signal/norm\n",
    "\n",
    "def parse_coms(record):\n",
    "    \"\"\" Formats the comments of the record as a python dictionary \"\"\"\n",
    "    \n",
    "    head_info = {}\n",
    "    for item in record.comments:\n",
    "        elem = item.split(':')\n",
    "        head_info[elem[0]] = elem[1].lstrip()\n",
    "    \n",
    "    keys =  list(head_info.keys())\n",
    "    ii_diag = [i for i, x in enumerate(keys) if x == \"Diagnose\"][0]\n",
    "    ii_hemo = [i for i, x in enumerate(keys) if x == \"Hemodynamics\"][0]\n",
    "    ii_ther = [i for i, x in enumerate(keys) if x == \"Therapy\"][0]\n",
    "\n",
    "    keys_diag = [x for i, x in enumerate(keys) if ii_diag < i < ii_hemo]\n",
    "    keys_hemo = [x for i, x in enumerate(keys) if ii_hemo < i < ii_ther]\n",
    "    keys_ther = [x for i, x in enumerate(keys) if ii_ther < i]\n",
    "    \n",
    "    header_all = {\"age\":head_info[\"age\"], \n",
    "                  \"sex\":head_info[\"sex\"], \n",
    "                  \"ECG date\":head_info[\"ECG date\"], \n",
    "                  \"Diagnose\":{}, \n",
    "                  \"Hemodynamics\":{}, \n",
    "                  \"Therapy\":{}}\n",
    "\n",
    "    for key in keys_diag:\n",
    "        header_all['Diagnose'][key] = head_info[key]\n",
    "    for key in keys_hemo:\n",
    "        header_all['Hemodynamics'][key] = head_info[key]\n",
    "    for key in keys_ther:\n",
    "        header_all['Therapy'][key] = head_info[key]\n",
    "        \n",
    "    return header_all"
   ]
  },
  {
   "cell_type": "markdown",
   "id": "8a29f96f-79a2-433d-88c8-db7dd634f4de",
   "metadata": {},
   "source": [
    "For each patient in the sample, the following information is stored in lists:\n",
    "- The preprocessed ECG signal (de-baselined, normalized) corresponding to the channel 1 (it can be any other channel)\n",
    "- The reason for their admission\n",
    "\n",
    "Then the result is converted to a pandas DataFrame:"
   ]
  },
  {
   "cell_type": "code",
   "execution_count": 4,
   "id": "70eb8136-712c-40af-81bf-25f0dac7b46f",
   "metadata": {},
   "outputs": [
    {
     "data": {
      "text/html": [
       "<div>\n",
       "<style scoped>\n",
       "    .dataframe tbody tr th:only-of-type {\n",
       "        vertical-align: middle;\n",
       "    }\n",
       "\n",
       "    .dataframe tbody tr th {\n",
       "        vertical-align: top;\n",
       "    }\n",
       "\n",
       "    .dataframe thead th {\n",
       "        text-align: right;\n",
       "    }\n",
       "</style>\n",
       "<table border=\"1\" class=\"dataframe\">\n",
       "  <thead>\n",
       "    <tr style=\"text-align: right;\">\n",
       "      <th></th>\n",
       "      <th>Patient</th>\n",
       "      <th>Motive</th>\n",
       "      <th>Signal</th>\n",
       "    </tr>\n",
       "  </thead>\n",
       "  <tbody>\n",
       "    <tr>\n",
       "      <th>80</th>\n",
       "      <td>patient028</td>\n",
       "      <td>Myocardial infarction</td>\n",
       "      <td>[-0.09881167359340214, -0.07469287663075362, -...</td>\n",
       "    </tr>\n",
       "    <tr>\n",
       "      <th>442</th>\n",
       "      <td>patient210</td>\n",
       "      <td>Hypertrophy</td>\n",
       "      <td>[-0.0032695056582057063, -0.001459884981811797...</td>\n",
       "    </tr>\n",
       "    <tr>\n",
       "      <th>534</th>\n",
       "      <td>patient284</td>\n",
       "      <td>Healthy control</td>\n",
       "      <td>[-0.0010454580068732563, -0.002926246597146178...</td>\n",
       "    </tr>\n",
       "    <tr>\n",
       "      <th>13</th>\n",
       "      <td>patient006</td>\n",
       "      <td>Myocardial infarction</td>\n",
       "      <td>[0.0417332366062682, 0.0210034659442062, -0.04...</td>\n",
       "    </tr>\n",
       "    <tr>\n",
       "      <th>434</th>\n",
       "      <td>patient203</td>\n",
       "      <td>Bundle branch block</td>\n",
       "      <td>[0.010788768371254689, 0.007412831489172913, 0...</td>\n",
       "    </tr>\n",
       "  </tbody>\n",
       "</table>\n",
       "</div>"
      ],
      "text/plain": [
       "        Patient                 Motive  \\\n",
       "80   patient028  Myocardial infarction   \n",
       "442  patient210            Hypertrophy   \n",
       "534  patient284        Healthy control   \n",
       "13   patient006  Myocardial infarction   \n",
       "434  patient203    Bundle branch block   \n",
       "\n",
       "                                                Signal  \n",
       "80   [-0.09881167359340214, -0.07469287663075362, -...  \n",
       "442  [-0.0032695056582057063, -0.001459884981811797...  \n",
       "534  [-0.0010454580068732563, -0.002926246597146178...  \n",
       "13   [0.0417332366062682, 0.0210034659442062, -0.04...  \n",
       "434  [0.010788768371254689, 0.007412831489172913, 0...  "
      ]
     },
     "execution_count": 4,
     "metadata": {},
     "output_type": "execute_result"
    }
   ],
   "source": [
    "signals_post = []\n",
    "reasons = []\n",
    "channel = 1\n",
    "\n",
    "for record in records:\n",
    "    signals_post.append(normalize_ECG(remove_baseline(record, channel)))\n",
    "    reasons.append(parse_coms(record)['Diagnose']['Reason for admission'])\n",
    "    \n",
    "df = pd.DataFrame({'Patient': patients, 'Motive': reasons,'Signal': signals_post})\n",
    "df.sample(5)"
   ]
  },
  {
   "cell_type": "code",
   "execution_count": 5,
   "id": "d6527bc6-e420-465d-94d4-e6a1bf44f796",
   "metadata": {},
   "outputs": [],
   "source": [
    "### Proceso:\n",
    "## Quitar baseline  HECHO\n",
    "## Normalizar HECHO\n",
    "## Determinar máximo HECHO\n",
    "## Tomar puntos a un lado y al otro HECHO\n",
    "## Segmentar dataset HECHO\n",
    "\n",
    "\n",
    "## Determinar dataset total (un canal o varios?) HECHO - De momento, un canal\n",
    "## Dividir en train test dev\n",
    "## Adaptar al input de la CNN\n",
    "## Entrenar\n",
    "## Matriz de confusión\n",
    "\n",
    "## OPTION 1: DETERMINAR QRS A TRAVES DE RED NEURONAL -> SEGUIR PAPER\n",
    "## OPTION 2: CLASIFICAR EN SANO, NO SANO -> TAL VEZ REQUIERE OTRA ESTRUCTURA - MUY COMPLICADO, EXPLICAR AL FINAL"
   ]
  },
  {
   "cell_type": "markdown",
   "id": "f73d13fa-30e2-4e65-b514-9614ad488f85",
   "metadata": {},
   "source": [
    "The admission reasons are the following, with the number of ECGs registered for each corresponding case:"
   ]
  },
  {
   "cell_type": "code",
   "execution_count": 6,
   "id": "2bb94442-f316-4126-8ec2-76eda281e4ea",
   "metadata": {},
   "outputs": [
    {
     "data": {
      "text/plain": [
       "Myocardial infarction     368\n",
       "Healthy control            80\n",
       "n/a                        27\n",
       "Cardiomyopathy             17\n",
       "Bundle branch block        17\n",
       "Dysrhythmia                16\n",
       "Hypertrophy                 7\n",
       "Valvular heart disease      6\n",
       "Myocarditis                 4\n",
       "Stable angina               2\n",
       "Heart failure (NYHA 2)      1\n",
       "Heart failure (NYHA 3)      1\n",
       "Heart failure (NYHA 4)      1\n",
       "Palpitation                 1\n",
       "Unstable angina             1\n",
       "Name: Motive, dtype: int64"
      ]
     },
     "execution_count": 6,
     "metadata": {},
     "output_type": "execute_result"
    }
   ],
   "source": [
    "df.Motive.value_counts()"
   ]
  },
  {
   "cell_type": "markdown",
   "id": "5db77452-0d23-4d23-958e-921f8eb0ff96",
   "metadata": {},
   "source": [
    "After that, a quick eye check on every ECG, motive by motive, is performed to remove problematic signals. A signal is accepted if:\n",
    "- A full QRS complex is recorded and identified\n",
    "- There is no missing data inside the QRS complex (easily seen by fully horizontal lines)\n",
    "\n",
    "For the moment I'm holding these criteria, knowing that for a deeper analysis a different criterion may be needed for each motive. This one would be an example of an accepted ECG:"
   ]
  },
  {
   "cell_type": "code",
   "execution_count": 30,
   "id": "f22737d4-b2cd-4ab4-bbb3-d75fb7ec4ebf",
   "metadata": {},
   "outputs": [
    {
     "name": "stderr",
     "output_type": "stream",
     "text": [
      "/tmp/ipykernel_39788/1425451571.py:1: UserWarning: Boolean Series key will be reindexed to match DataFrame index.\n",
      "  plt.plot(df[df.Motive == 'Healthy control'][df.Patient == 'patient284'].iloc[0].Signal)\n"
     ]
    },
    {
     "data": {
      "text/plain": [
       "Text(0, 0.5, 'Amplitude (norm)')"
      ]
     },
     "execution_count": 30,
     "metadata": {},
     "output_type": "execute_result"
    },
    {
     "data": {
      "image/png": "[encoded data removed]",
      "text/plain": [
       "<Figure size 432x288 with 1 Axes>"
      ]
     },
     "metadata": {
      "needs_background": "light"
     },
     "output_type": "display_data"
    }
   ],
   "source": [
    "plt.plot(df[df.Motive == 'Healthy control'][df.Patient == 'patient284'].iloc[0].Signal)\n",
    "plt.title('patient284')\n",
    "plt.xlabel('Time (ms)')\n",
    "plt.ylabel('Amplitude (norm)')"
   ]
  },
  {
   "cell_type": "markdown",
   "id": "50cc59f0-51ef-4099-9619-1df202e931be",
   "metadata": {},
   "source": [
    "And this one would be an example of an rejected ECG, with an incomplete pulse followed by a QRS complex with missing data:"
   ]
  },
  {
   "cell_type": "code",
   "execution_count": 31,
   "id": "9e643114-3cd4-4d8b-8597-8f1dd67d8b0f",
   "metadata": {},
   "outputs": [
    {
     "name": "stderr",
     "output_type": "stream",
     "text": [
      "/tmp/ipykernel_39788/1840711652.py:1: UserWarning: Boolean Series key will be reindexed to match DataFrame index.\n",
      "  plt.plot(df[df.Motive == 'Healthy control'][df.Patient == 'patient255'].iloc[0].Signal)\n"
     ]
    },
    {
     "data": {
      "text/plain": [
       "Text(0, 0.5, 'Amplitude (norm)')"
      ]
     },
     "execution_count": 31,
     "metadata": {},
     "output_type": "execute_result"
    },
    {
     "data": {
      "image/png": "[encoded data removed]",
      "text/plain": [
       "<Figure size 432x288 with 1 Axes>"
      ]
     },
     "metadata": {
      "needs_background": "light"
     },
     "output_type": "display_data"
    }
   ],
   "source": [
    "plt.plot(df[df.Motive == 'Healthy control'][df.Patient == 'patient255'].iloc[0].Signal)\n",
    "plt.title('patient255')\n",
    "plt.xlabel('Time (ms)')\n",
    "plt.ylabel('Amplitude (norm)')"
   ]
  },
  {
   "cell_type": "markdown",
   "id": "8db90c23-972c-4ab3-9214-821826a1a1cd",
   "metadata": {},
   "source": [
    "In case of not having enough data to feed a CNN, we could always increase the sampling window of the ECG signal and extract a complete QRS complex.\n",
    "\n",
    "After a full eye check of the entire dataset, I am going to drop the following patients:"
   ]
  },
  {
   "cell_type": "code",
   "execution_count": 114,
   "id": "1aad162b-10f9-45f8-a4e2-9eabb4e076c8",
   "metadata": {},
   "outputs": [
    {
     "name": "stdout",
     "output_type": "stream",
     "text": [
      "Full dataset shape: (549,)\n",
      "Processed dataset shape: (458,)\n"
     ]
    },
    {
     "data": {
      "text/html": [
       "<div>\n",
       "<style scoped>\n",
       "    .dataframe tbody tr th:only-of-type {\n",
       "        vertical-align: middle;\n",
       "    }\n",
       "\n",
       "    .dataframe tbody tr th {\n",
       "        vertical-align: top;\n",
       "    }\n",
       "\n",
       "    .dataframe thead th {\n",
       "        text-align: right;\n",
       "    }\n",
       "</style>\n",
       "<table border=\"1\" class=\"dataframe\">\n",
       "  <thead>\n",
       "    <tr style=\"text-align: right;\">\n",
       "      <th></th>\n",
       "      <th>Patient</th>\n",
       "      <th>Motive</th>\n",
       "      <th>Signal</th>\n",
       "    </tr>\n",
       "  </thead>\n",
       "  <tbody>\n",
       "    <tr>\n",
       "      <th>70</th>\n",
       "      <td>patient024</td>\n",
       "      <td>Myocardial infarction</td>\n",
       "      <td>[0.014535385815270124, 0.021571847820201332, 0...</td>\n",
       "    </tr>\n",
       "    <tr>\n",
       "      <th>100</th>\n",
       "      <td>patient033</td>\n",
       "      <td>Myocardial infarction</td>\n",
       "      <td>[0.07243986002436745, 0.1058289187919632, 0.12...</td>\n",
       "    </tr>\n",
       "    <tr>\n",
       "      <th>366</th>\n",
       "      <td>patient153</td>\n",
       "      <td>Dysrhythmia</td>\n",
       "      <td>[0.21677340613253945, 0.17201591472643982, 0.1...</td>\n",
       "    </tr>\n",
       "    <tr>\n",
       "      <th>433</th>\n",
       "      <td>patient202</td>\n",
       "      <td>Bundle branch block</td>\n",
       "      <td>[0.054180225828668445, 0.048720155937411136, 0...</td>\n",
       "    </tr>\n",
       "    <tr>\n",
       "      <th>122</th>\n",
       "      <td>patient040</td>\n",
       "      <td>Myocardial infarction</td>\n",
       "      <td>[-0.0116733904596987, -0.016314514341614888, 0...</td>\n",
       "    </tr>\n",
       "  </tbody>\n",
       "</table>\n",
       "</div>"
      ],
      "text/plain": [
       "        Patient                 Motive  \\\n",
       "70   patient024  Myocardial infarction   \n",
       "100  patient033  Myocardial infarction   \n",
       "366  patient153            Dysrhythmia   \n",
       "433  patient202    Bundle branch block   \n",
       "122  patient040  Myocardial infarction   \n",
       "\n",
       "                                                Signal  \n",
       "70   [0.014535385815270124, 0.021571847820201332, 0...  \n",
       "100  [0.07243986002436745, 0.1058289187919632, 0.12...  \n",
       "366  [0.21677340613253945, 0.17201591472643982, 0.1...  \n",
       "433  [0.054180225828668445, 0.048720155937411136, 0...  \n",
       "122  [-0.0116733904596987, -0.016314514341614888, 0...  "
      ]
     },
     "execution_count": 114,
     "metadata": {},
     "output_type": "execute_result"
    }
   ],
   "source": [
    "todrop_patients= {'Healthy control': [150, 165, 174, 236, 245, 255, 277], \n",
    "                  'Myocardial infarction': [7, 14, 18, 23, 44, 45, 59, 65, 67, 72, 73, 75, 79, 81, 86, 93, 99, 100, 183, 197],\n",
    "                  'n/a': [136, 186, 194, 285],\n",
    "                  'Cardiomyopathy': [127, 215],\n",
    "                  'Bundle branch block': [219, 225],\n",
    "                  'Dysrhythmia': [],\n",
    "                  'Hypertrophy': [212, 227],\n",
    "                  'Valvular heart disease': [188]}\n",
    "\n",
    "patients_todrop = ['patient'+str(item).zfill(3) for item in sum(list(todrop_patients.values()), [])]\n",
    "\n",
    "df_ECG = df[~df.Patient.isin(patients_todrop)].copy()\n",
    "\n",
    "print('Full dataset shape: '+ str(np.shape(df.Signal)))\n",
    "print('Processed dataset shape: ' + str(np.shape(df_ECG.Signal)))\n",
    "\n",
    "df_ECG.sample(5)"
   ]
  },
  {
   "cell_type": "markdown",
   "id": "b478e70a-4073-4849-961a-94551b0c69a8",
   "metadata": {},
   "source": [
    "### Labelling the data\n",
    "\n",
    "I will address the QRS detection as a supervised classification problem. It will imply a labelling process, where we tell the neural network what a QRS complex is, and what is not. In this case, I will:\n",
    "- Extract a pulse for every signal by a rudimentary detection of the maximum of the signal and center the pulse in the R peak,\n",
    "- Take points at each side so we can include the Q and S peaks as well as the pulse baseline\n",
    "- Label those points as 1 (affirmative detection of a QRS signal)\n",
    "- Label the rest at 0 (negative detection of a QRS signal)\n",
    "\n",
    "In literature, Sarlija, M., Jurisic F., Popovic S. (2017) used a +-40 ms window for QRS labelling. Here, as a window I will use +-120 ms for the whole crop and +-60 ms from the R peak for the QRS labelling.\n",
    "\n",
    "These values can be tuned in case the false positive rate is high after the training process."
   ]
  },
  {
   "cell_type": "code",
   "execution_count": 118,
   "id": "bc2d3fc9-d7c0-4b30-975a-d91f8918c297",
   "metadata": {},
   "outputs": [
    {
     "data": {
      "text/html": [
       "<div>\n",
       "<style scoped>\n",
       "    .dataframe tbody tr th:only-of-type {\n",
       "        vertical-align: middle;\n",
       "    }\n",
       "\n",
       "    .dataframe tbody tr th {\n",
       "        vertical-align: top;\n",
       "    }\n",
       "\n",
       "    .dataframe thead th {\n",
       "        text-align: right;\n",
       "    }\n",
       "</style>\n",
       "<table border=\"1\" class=\"dataframe\">\n",
       "  <thead>\n",
       "    <tr style=\"text-align: right;\">\n",
       "      <th></th>\n",
       "      <th>Patient</th>\n",
       "      <th>Motive</th>\n",
       "      <th>Signal</th>\n",
       "      <th>Label_Signal</th>\n",
       "      <th>Signal_crop</th>\n",
       "      <th>Label_crop</th>\n",
       "    </tr>\n",
       "  </thead>\n",
       "  <tbody>\n",
       "    <tr>\n",
       "      <th>524</th>\n",
       "      <td>patient278</td>\n",
       "      <td>n/a</td>\n",
       "      <td>[0.005323979795880256, 0.013385883146967786, 0...</td>\n",
       "      <td>[0.0, 0.0, 0.0, 0.0, 0.0, 0.0, 0.0, 0.0, 0.0, ...</td>\n",
       "      <td>[-0.0948386718901324, -0.11960354270284962, -0...</td>\n",
       "      <td>[0.0, 0.0, 0.0, 0.0, 0.0, 0.0, 0.0, 0.0, 0.0, ...</td>\n",
       "    </tr>\n",
       "    <tr>\n",
       "      <th>94</th>\n",
       "      <td>patient032</td>\n",
       "      <td>Myocardial infarction</td>\n",
       "      <td>[0.012402122948163327, -0.011881760185567473, ...</td>\n",
       "      <td>[0.0, 0.0, 0.0, 0.0, 0.0, 0.0, 0.0, 0.0, 0.0, ...</td>\n",
       "      <td>[0.0033699829043630086, 0.02654318055000145, 0...</td>\n",
       "      <td>[0.0, 0.0, 0.0, 0.0, 0.0, 0.0, 0.0, 0.0, 0.0, ...</td>\n",
       "    </tr>\n",
       "    <tr>\n",
       "      <th>178</th>\n",
       "      <td>patient061</td>\n",
       "      <td>Myocardial infarction</td>\n",
       "      <td>[-0.007569195931284191, 0.011519336764259798, ...</td>\n",
       "      <td>[0.0, 0.0, 0.0, 0.0, 0.0, 0.0, 0.0, 0.0, 0.0, ...</td>\n",
       "      <td>[0.03431507652375266, 0.024502576795981498, 0....</td>\n",
       "      <td>[0.0, 0.0, 0.0, 0.0, 0.0, 0.0, 0.0, 0.0, 0.0, ...</td>\n",
       "    </tr>\n",
       "    <tr>\n",
       "      <th>101</th>\n",
       "      <td>patient034</td>\n",
       "      <td>Myocardial infarction</td>\n",
       "      <td>[0.012992315793735124, 0.0023525611993251826, ...</td>\n",
       "      <td>[0.0, 0.0, 0.0, 0.0, 0.0, 0.0, 0.0, 0.0, 0.0, ...</td>\n",
       "      <td>[0.0432756312580879, 0.039418637738008445, 0.0...</td>\n",
       "      <td>[0.0, 0.0, 0.0, 0.0, 0.0, 0.0, 0.0, 0.0, 0.0, ...</td>\n",
       "    </tr>\n",
       "    <tr>\n",
       "      <th>162</th>\n",
       "      <td>patient051</td>\n",
       "      <td>Myocardial infarction</td>\n",
       "      <td>[-0.02467993893451024, 0.012908762159288871, 0...</td>\n",
       "      <td>[0.0, 0.0, 0.0, 0.0, 0.0, 0.0, 0.0, 0.0, 0.0, ...</td>\n",
       "      <td>[0.0718306176520737, 0.08146847312897432, 0.08...</td>\n",
       "      <td>[0.0, 0.0, 0.0, 0.0, 0.0, 0.0, 0.0, 0.0, 0.0, ...</td>\n",
       "    </tr>\n",
       "  </tbody>\n",
       "</table>\n",
       "</div>"
      ],
      "text/plain": [
       "        Patient                 Motive  \\\n",
       "524  patient278                    n/a   \n",
       "94   patient032  Myocardial infarction   \n",
       "178  patient061  Myocardial infarction   \n",
       "101  patient034  Myocardial infarction   \n",
       "162  patient051  Myocardial infarction   \n",
       "\n",
       "                                                Signal  \\\n",
       "524  [0.005323979795880256, 0.013385883146967786, 0...   \n",
       "94   [0.012402122948163327, -0.011881760185567473, ...   \n",
       "178  [-0.007569195931284191, 0.011519336764259798, ...   \n",
       "101  [0.012992315793735124, 0.0023525611993251826, ...   \n",
       "162  [-0.02467993893451024, 0.012908762159288871, 0...   \n",
       "\n",
       "                                          Label_Signal  \\\n",
       "524  [0.0, 0.0, 0.0, 0.0, 0.0, 0.0, 0.0, 0.0, 0.0, ...   \n",
       "94   [0.0, 0.0, 0.0, 0.0, 0.0, 0.0, 0.0, 0.0, 0.0, ...   \n",
       "178  [0.0, 0.0, 0.0, 0.0, 0.0, 0.0, 0.0, 0.0, 0.0, ...   \n",
       "101  [0.0, 0.0, 0.0, 0.0, 0.0, 0.0, 0.0, 0.0, 0.0, ...   \n",
       "162  [0.0, 0.0, 0.0, 0.0, 0.0, 0.0, 0.0, 0.0, 0.0, ...   \n",
       "\n",
       "                                           Signal_crop  \\\n",
       "524  [-0.0948386718901324, -0.11960354270284962, -0...   \n",
       "94   [0.0033699829043630086, 0.02654318055000145, 0...   \n",
       "178  [0.03431507652375266, 0.024502576795981498, 0....   \n",
       "101  [0.0432756312580879, 0.039418637738008445, 0.0...   \n",
       "162  [0.0718306176520737, 0.08146847312897432, 0.08...   \n",
       "\n",
       "                                            Label_crop  \n",
       "524  [0.0, 0.0, 0.0, 0.0, 0.0, 0.0, 0.0, 0.0, 0.0, ...  \n",
       "94   [0.0, 0.0, 0.0, 0.0, 0.0, 0.0, 0.0, 0.0, 0.0, ...  \n",
       "178  [0.0, 0.0, 0.0, 0.0, 0.0, 0.0, 0.0, 0.0, 0.0, ...  \n",
       "101  [0.0, 0.0, 0.0, 0.0, 0.0, 0.0, 0.0, 0.0, 0.0, ...  \n",
       "162  [0.0, 0.0, 0.0, 0.0, 0.0, 0.0, 0.0, 0.0, 0.0, ...  "
      ]
     },
     "execution_count": 118,
     "metadata": {},
     "output_type": "execute_result"
    }
   ],
   "source": [
    "def crop_sig(signal, y, from_v, to_v):\n",
    "    \"\"\" Crops the signal between two given intervals \n",
    "    \n",
    "    Takes a window of the signal between two points and centered in the maximum value \n",
    "    \n",
    "    Input: \n",
    "        signal: list or array of floats\n",
    "        x:  list or array of floats \n",
    "        from_v: int\n",
    "        to_v: int\n",
    "        \n",
    "    Returns:\n",
    "        [signal list, y list]\n",
    "    \"\"\"\n",
    "    locmax = int(np.where(signal == signal.max())[0])\n",
    "    return [signal[locmax-from_v: locmax+from_v], y[locmax-from_v: locmax+from_v]]\n",
    "\n",
    "def QRS_label(signal, from_v, to_v):\n",
    "    \"\"\" Labels the signal between two points as 1 and the rest of the signal as 0\n",
    "    \n",
    "    Input: \n",
    "        signal: list or array of floats\n",
    "        from_v: int\n",
    "        to_v: int\n",
    "        \n",
    "    Returns:\n",
    "        y: list of ints\n",
    "    \"\"\"\n",
    "    locmax = int(np.where(signal == signal.max())[0])\n",
    "    y = np.zeros(len(signal))\n",
    "    y[locmax-from_v: locmax+from_v] = 1\n",
    "    return y\n",
    "\n",
    "df_ECG['Label_Signal'] = df_ECG.Signal.apply(lambda x: QRS_label(x, 60, 60))\n",
    "df_ECG['Signal_crop'] = df_ECG.apply(lambda x: crop_sig(x.Signal, x.Label_Signal, 120, 120), axis=1).apply(lambda x: x[0])\n",
    "df_ECG['Label_crop'] = df_ECG.apply(lambda x: crop_sig(x.Signal, x.Label_Signal, 120, 120), axis=1).apply(lambda x: x[1])\n",
    "\n",
    "df_ECG.sample(5)"
   ]
  },
  {
   "cell_type": "markdown",
   "id": "dd54162b-ad0f-4e4d-a564-2a55d812e8f6",
   "metadata": {},
   "source": [
    "As an example, this would be one of the entries of the dataset:"
   ]
  },
  {
   "cell_type": "code",
   "execution_count": 123,
   "id": "b7156ef0-4274-4ba8-a427-ddaea3248e14",
   "metadata": {},
   "outputs": [
    {
     "data": {
      "text/plain": [
       "<matplotlib.legend.Legend at 0x7f609bba8670>"
      ]
     },
     "execution_count": 123,
     "metadata": {},
     "output_type": "execute_result"
    },
    {
     "data": {
      "image/png": "[encoded data removed]",
      "text/plain": [
       "<Figure size 432x288 with 1 Axes>"
      ]
     },
     "metadata": {
      "needs_background": "light"
     },
     "output_type": "display_data"
    }
   ],
   "source": [
    "sig_example = df_ECG.iloc[8]\n",
    "\n",
    "plt.plot(df_ECG.Signal_crop.iloc[8])\n",
    "plt.plot(np.where(sig_example.Label_crop!=0)[0], \n",
    "         sig_example.Label_crop[np.where(sig_example.Label_crop!=0)]*sig_example.Signal_crop[np.where(sig_example.Label_crop!=0)], \n",
    "         '.', label = 'QRS complex')\n",
    "plt.title(df_ECG.Patient.iloc[8])\n",
    "plt.xlabel('Time (ms)')\n",
    "plt.ylabel('Amplitude (norm)')\n",
    "plt.legend()"
   ]
  },
  {
   "cell_type": "markdown",
   "id": "b3f718d7-8983-44c7-b6a5-7d626846b622",
   "metadata": {},
   "source": [
    "The final dataset now has the following structure:\n",
    "\n",
    "- 458 signals, each of them with a length of 240 points\n",
    "- 458 label vectors, each of them with a length of 240 points\n",
    "\n",
    "A proposal for a 1D-CNN would be the structure implemented in Sarlija, M., Jurisic F., Popovic S. (2017):"
   ]
  },
  {
   "cell_type": "code",
   "execution_count": 125,
   "id": "d71283b8-162c-42e8-b549-038c34b92f01",
   "metadata": {},
   "outputs": [
    {
     "name": "stdout",
     "output_type": "stream",
     "text": [
      "Model: \"sequential_2\"\n",
      "_________________________________________________________________\n",
      " Layer (type)                Output Shape              Param #   \n",
      "=================================================================\n",
      " conv1d_4 (Conv1D)           (None, 236, 32)           192       \n",
      "                                                                 \n",
      " dropout_8 (Dropout)         (None, 236, 32)           0         \n",
      "                                                                 \n",
      " max_pooling1d_2 (MaxPooling  (None, 117, 32)          0         \n",
      " 1D)                                                             \n",
      "                                                                 \n",
      " conv1d_5 (Conv1D)           (None, 113, 32)           5152      \n",
      "                                                                 \n",
      " dropout_9 (Dropout)         (None, 113, 32)           0         \n",
      "                                                                 \n",
      " dense_4 (Dense)             (None, 113, 32)           1056      \n",
      "                                                                 \n",
      " dropout_10 (Dropout)        (None, 113, 32)           0         \n",
      "                                                                 \n",
      " dense_5 (Dense)             (None, 113, 32)           1056      \n",
      "                                                                 \n",
      " dropout_11 (Dropout)        (None, 113, 32)           0         \n",
      "                                                                 \n",
      " softmax_2 (Softmax)         (None, 113, 32)           0         \n",
      "                                                                 \n",
      "=================================================================\n",
      "Total params: 7,456\n",
      "Trainable params: 7,456\n",
      "Non-trainable params: 0\n",
      "_________________________________________________________________\n"
     ]
    }
   ],
   "source": [
    "input_shape = (240, 1) \n",
    "\n",
    "model = models.Sequential([\n",
    "    layers.Input(shape=input_shape),\n",
    "    layers.Conv1D(32, 5, strides = 1, activation='relu'),\n",
    "    layers.Dropout(0.5),\n",
    "    layers.MaxPool1D(pool_size=3, strides=2, padding='valid'),\n",
    "    layers.Conv1D(32, 5, strides=1, activation='relu'),\n",
    "    layers.Dropout(0.5),\n",
    "    layers.Dense(32, activation='relu'),\n",
    "    layers.Dropout(0.5),\n",
    "    layers.Dense(32, activation='relu'),\n",
    "    layers.Dropout(0.5),\n",
    "    layers.Softmax()\n",
    "])\n",
    "model.summary()\n",
    "\n",
    "model.compile(optimizer='adam',\n",
    "              loss=tf.keras.losses.SparseCategoricalCrossentropy(from_logits=True),\n",
    "              metrics=['accuracy'])"
   ]
  },
  {
   "cell_type": "markdown",
   "id": "449168d3-55c7-443f-92b1-7a19cadc12c9",
   "metadata": {},
   "source": [
    "The following steps would be the splitting of the dataset in train, validation, test:\n",
    "- Train (80%)\n",
    "- Validation (10%)\n",
    "- Test (10%)\n",
    "\n",
    "In this case, it is important that all the motive classes are balanced within the three splits. That is, that there is not an undersampling of specific clases (lack of 'Healthy control', for example). In case these data would be insuficient, it is possible to increase the data sample by taking longer sampling windows and extracting several pulses from them.\n",
    "\n",
    "Finally, the network would be ready to be trained after arranging the data in the right input format."
   ]
  },
  {
   "cell_type": "code",
   "execution_count": null,
   "id": "3c303d69-cd60-433f-9698-dd90d4a73260",
   "metadata": {},
   "outputs": [],
   "source": []
  }
 ],
 "metadata": {
  "kernelspec": {
   "display_name": "Python 3 (ipykernel)",
   "language": "python",
   "name": "python3"
  },
  "language_info": {
   "codemirror_mode": {
    "name": "ipython",
    "version": 3
   },
   "file_extension": ".py",
   "mimetype": "text/x-python",
   "name": "python",
   "nbconvert_exporter": "python",
   "pygments_lexer": "ipython3",
   "version": "3.8.10"
  }
 },
 "nbformat": 4,
 "nbformat_minor": 5
}
