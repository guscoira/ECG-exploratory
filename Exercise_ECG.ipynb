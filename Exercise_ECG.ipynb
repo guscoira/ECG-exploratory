{
  "cells": [
    {
      "cell_type": "markdown",
      "metadata": {
        "id": "view-in-github",
        "colab_type": "text"
      },
      "source": [
        "<a href=\"https://colab.research.google.com/github/guscoira/ECG-exploratory/blob/main/Exercise_ECG.ipynb\" target=\"_parent\"><img src=\"https://colab.research.google.com/assets/colab-badge.svg\" alt=\"Open In Colab\"/></a>"
      ]
    },
    {
      "cell_type": "markdown",
      "id": "49f9856c-d5ac-45ea-a089-800536201feb",
      "metadata": {
        "id": "49f9856c-d5ac-45ea-a089-800536201feb"
      },
      "source": [
        "# Data exploration of a patient ECG"
      ]
    },
    {
      "cell_type": "markdown",
      "id": "7dc5f91b-6bbe-4199-a7cb-ee03681daddb",
      "metadata": {
        "id": "7dc5f91b-6bbe-4199-a7cb-ee03681daddb"
      },
      "source": [
        "This notebook serves as a first contact with ECG data. For the purpose, the python package wfdb (https://wfdb.readthedocs.io/en/latest/) provides a set of tools which allow a very efficient way to read the files in the appropriate format as well as to annotate, plot and extract insights from them. Other packages will be used too, such as numpy, pandas and matplotlib, for numerical calculations, data processing and plotting options, respectively."
      ]
    },
    {
      "cell_type": "code",
      "execution_count": 4,
      "id": "798bb4f4-a778-4b59-8b32-069e6dd7b410",
      "metadata": {
        "colab": {
          "base_uri": "https://localhost:8080/"
        },
        "id": "798bb4f4-a778-4b59-8b32-069e6dd7b410",
        "outputId": "7c284754-9eaf-4b01-9a29-408460c2bd0e"
      },
      "outputs": [
        {
          "output_type": "stream",
          "name": "stdout",
          "text": [
            "Looking in indexes: https://pypi.org/simple, https://us-python.pkg.dev/colab-wheels/public/simple/\n",
            "Requirement already satisfied: wfdb in /usr/local/lib/python3.7/dist-packages (4.0.0)\n",
            "Requirement already satisfied: matplotlib<4.0.0,>=3.2.2 in /usr/local/lib/python3.7/dist-packages (from wfdb) (3.2.2)\n",
            "Requirement already satisfied: pandas<2.0.0,>=1.0.0 in /usr/local/lib/python3.7/dist-packages (from wfdb) (1.3.5)\n",
            "Requirement already satisfied: SoundFile<0.12.0,>=0.10.0 in /usr/local/lib/python3.7/dist-packages (from wfdb) (0.10.3.post1)\n",
            "Requirement already satisfied: numpy<2.0.0,>=1.10.1 in /usr/local/lib/python3.7/dist-packages (from wfdb) (1.21.6)\n",
            "Requirement already satisfied: scipy<2.0.0,>=1.0.0 in /usr/local/lib/python3.7/dist-packages (from wfdb) (1.7.3)\n",
            "Requirement already satisfied: requests<3.0.0,>=2.8.1 in /usr/local/lib/python3.7/dist-packages (from wfdb) (2.23.0)\n",
            "Requirement already satisfied: python-dateutil>=2.1 in /usr/local/lib/python3.7/dist-packages (from matplotlib<4.0.0,>=3.2.2->wfdb) (2.8.2)\n",
            "Requirement already satisfied: cycler>=0.10 in /usr/local/lib/python3.7/dist-packages (from matplotlib<4.0.0,>=3.2.2->wfdb) (0.11.0)\n",
            "Requirement already satisfied: pyparsing!=2.0.4,!=2.1.2,!=2.1.6,>=2.0.1 in /usr/local/lib/python3.7/dist-packages (from matplotlib<4.0.0,>=3.2.2->wfdb) (3.0.9)\n",
            "Requirement already satisfied: kiwisolver>=1.0.1 in /usr/local/lib/python3.7/dist-packages (from matplotlib<4.0.0,>=3.2.2->wfdb) (1.4.4)\n",
            "Requirement already satisfied: typing-extensions in /usr/local/lib/python3.7/dist-packages (from kiwisolver>=1.0.1->matplotlib<4.0.0,>=3.2.2->wfdb) (4.1.1)\n",
            "Requirement already satisfied: pytz>=2017.3 in /usr/local/lib/python3.7/dist-packages (from pandas<2.0.0,>=1.0.0->wfdb) (2022.2.1)\n",
            "Requirement already satisfied: six>=1.5 in /usr/local/lib/python3.7/dist-packages (from python-dateutil>=2.1->matplotlib<4.0.0,>=3.2.2->wfdb) (1.15.0)\n",
            "Requirement already satisfied: urllib3!=1.25.0,!=1.25.1,<1.26,>=1.21.1 in /usr/local/lib/python3.7/dist-packages (from requests<3.0.0,>=2.8.1->wfdb) (1.24.3)\n",
            "Requirement already satisfied: idna<3,>=2.5 in /usr/local/lib/python3.7/dist-packages (from requests<3.0.0,>=2.8.1->wfdb) (2.10)\n",
            "Requirement already satisfied: certifi>=2017.4.17 in /usr/local/lib/python3.7/dist-packages (from requests<3.0.0,>=2.8.1->wfdb) (2022.6.15)\n",
            "Requirement already satisfied: chardet<4,>=3.0.2 in /usr/local/lib/python3.7/dist-packages (from requests<3.0.0,>=2.8.1->wfdb) (3.0.4)\n",
            "Requirement already satisfied: cffi>=1.0 in /usr/local/lib/python3.7/dist-packages (from SoundFile<0.12.0,>=0.10.0->wfdb) (1.15.1)\n",
            "Requirement already satisfied: pycparser in /usr/local/lib/python3.7/dist-packages (from cffi>=1.0->SoundFile<0.12.0,>=0.10.0->wfdb) (2.21)\n"
          ]
        }
      ],
      "source": [
        "!pip install wfdb\n",
        "import wfdb\n",
        "from wfdb import processing\n",
        "from matplotlib import pyplot as plt\n",
        "import numpy as np\n",
        "import pandas as pd\n",
        "import statsmodels.api as sm\n"
      ]
    },
    {
      "cell_type": "markdown",
      "id": "11f8452d-e99d-4bff-914e-db72403a96e3",
      "metadata": {
        "id": "11f8452d-e99d-4bff-914e-db72403a96e3"
      },
      "source": [
        "## Data lecture"
      ]
    },
    {
      "cell_type": "markdown",
      "id": "ac1a3344-20ca-4b2b-91ab-a885fb6b0032",
      "metadata": {
        "id": "ac1a3344-20ca-4b2b-91ab-a885fb6b0032"
      },
      "source": [
        "For the moment, there is an example file from the patient dataset that will be loaded. This file is located inside the repository and corresponds to the patient 229. The folder includes 6 files: 2 different signals with the files .hea, .dat and .xyz. The library wfdb is optimized in such a way that it loads automatically all the information by giving the folder location as an input. For this work, I will load the signal corresponding to s0453_re sampling the first 10 seconds of the ECGs:"
      ]
    },
    {
      "cell_type": "code",
      "execution_count": 5,
      "id": "6885853a-bd9c-4f7e-a6d3-ccca388bd220",
      "metadata": {
        "colab": {
          "base_uri": "https://localhost:8080/",
          "height": 345
        },
        "id": "6885853a-bd9c-4f7e-a6d3-ccca388bd220",
        "outputId": "d031bb0e-1255-4195-aab5-5c8ecbcc0fb6"
      },
      "outputs": [
        {
          "output_type": "error",
          "ename": "FileNotFoundError",
          "evalue": "ignored",
          "traceback": [
            "\u001b[0;31m---------------------------------------------------------------------------\u001b[0m",
            "\u001b[0;31mFileNotFoundError\u001b[0m                         Traceback (most recent call last)",
            "\u001b[0;32m<ipython-input-5-69651b3447a6>\u001b[0m in \u001b[0;36m<module>\u001b[0;34m\u001b[0m\n\u001b[1;32m      2\u001b[0m \u001b[0mpatient\u001b[0m \u001b[0;34m=\u001b[0m \u001b[0;34m\"patient002\"\u001b[0m\u001b[0;34m\u001b[0m\u001b[0;34m\u001b[0m\u001b[0m\n\u001b[1;32m      3\u001b[0m \u001b[0mecg\u001b[0m \u001b[0;34m=\u001b[0m \u001b[0;34m\"s0015lre\"\u001b[0m\u001b[0;34m\u001b[0m\u001b[0;34m\u001b[0m\u001b[0m\n\u001b[0;32m----> 4\u001b[0;31m \u001b[0mrecord\u001b[0m \u001b[0;34m=\u001b[0m \u001b[0mwfdb\u001b[0m\u001b[0;34m.\u001b[0m\u001b[0mrdrecord\u001b[0m\u001b[0;34m(\u001b[0m\u001b[0mpath\u001b[0m \u001b[0;34m+\u001b[0m \u001b[0;34m\"/\"\u001b[0m\u001b[0;34m+\u001b[0m \u001b[0mpatient\u001b[0m\u001b[0;34m+\u001b[0m\u001b[0;34m'/'\u001b[0m\u001b[0;34m+\u001b[0m\u001b[0mecg\u001b[0m\u001b[0;34m,\u001b[0m \u001b[0msampfrom\u001b[0m\u001b[0;34m=\u001b[0m\u001b[0;36m0\u001b[0m\u001b[0;34m)\u001b[0m  \u001b[0;31m# The units in samp are miliseconds, we sample 20 seconds\u001b[0m\u001b[0;34m\u001b[0m\u001b[0;34m\u001b[0m\u001b[0m\n\u001b[0m",
            "\u001b[0;32m/usr/local/lib/python3.7/dist-packages/wfdb/io/record.py\u001b[0m in \u001b[0;36mrdrecord\u001b[0;34m(record_name, sampfrom, sampto, channels, physical, pn_dir, m2s, smooth_frames, ignore_skew, return_res, force_channels, channel_names, warn_empty)\u001b[0m\n\u001b[1;32m   1979\u001b[0m         )\n\u001b[1;32m   1980\u001b[0m \u001b[0;34m\u001b[0m\u001b[0m\n\u001b[0;32m-> 1981\u001b[0;31m     \u001b[0mrecord\u001b[0m \u001b[0;34m=\u001b[0m \u001b[0mrdheader\u001b[0m\u001b[0;34m(\u001b[0m\u001b[0mrecord_name\u001b[0m\u001b[0;34m,\u001b[0m \u001b[0mpn_dir\u001b[0m\u001b[0;34m=\u001b[0m\u001b[0mpn_dir\u001b[0m\u001b[0;34m,\u001b[0m \u001b[0mrd_segments\u001b[0m\u001b[0;34m=\u001b[0m\u001b[0;32mFalse\u001b[0m\u001b[0;34m)\u001b[0m\u001b[0;34m\u001b[0m\u001b[0;34m\u001b[0m\u001b[0m\n\u001b[0m\u001b[1;32m   1982\u001b[0m \u001b[0;34m\u001b[0m\u001b[0m\n\u001b[1;32m   1983\u001b[0m     \u001b[0;31m# Set defaults for sampto and channels input variables\u001b[0m\u001b[0;34m\u001b[0m\u001b[0;34m\u001b[0m\u001b[0;34m\u001b[0m\u001b[0m\n",
            "\u001b[0;32m/usr/local/lib/python3.7/dist-packages/wfdb/io/record.py\u001b[0m in \u001b[0;36mrdheader\u001b[0;34m(record_name, pn_dir, rd_segments)\u001b[0m\n\u001b[1;32m   1793\u001b[0m             \u001b[0;34m\"r\"\u001b[0m\u001b[0;34m,\u001b[0m\u001b[0;34m\u001b[0m\u001b[0;34m\u001b[0m\u001b[0m\n\u001b[1;32m   1794\u001b[0m             \u001b[0mencoding\u001b[0m\u001b[0;34m=\u001b[0m\u001b[0;34m\"ascii\"\u001b[0m\u001b[0;34m,\u001b[0m\u001b[0;34m\u001b[0m\u001b[0;34m\u001b[0m\u001b[0m\n\u001b[0;32m-> 1795\u001b[0;31m             \u001b[0merrors\u001b[0m\u001b[0;34m=\u001b[0m\u001b[0;34m\"ignore\"\u001b[0m\u001b[0;34m,\u001b[0m\u001b[0;34m\u001b[0m\u001b[0;34m\u001b[0m\u001b[0m\n\u001b[0m\u001b[1;32m   1796\u001b[0m         ) as f:\n\u001b[1;32m   1797\u001b[0m             \u001b[0mheader_content\u001b[0m \u001b[0;34m=\u001b[0m \u001b[0mf\u001b[0m\u001b[0;34m.\u001b[0m\u001b[0mread\u001b[0m\u001b[0;34m(\u001b[0m\u001b[0;34m)\u001b[0m\u001b[0;34m\u001b[0m\u001b[0;34m\u001b[0m\u001b[0m\n",
            "\u001b[0;31mFileNotFoundError\u001b[0m: [Errno 2] No such file or directory: '/content/ptb-diagnostic-ecg-database-1.0.0/patient002/s0015lre.hea'"
          ]
        }
      ],
      "source": [
        "path = \"ptb-diagnostic-ecg-database-1.0.0\"\n",
        "patient = \"patient002\"\n",
        "ecg = \"s0015lre\"\n",
        "record = wfdb.rdrecord(path + \"/\"+ patient+'/'+ecg, sampfrom=0)  # The units in samp are miliseconds, we sample 20 seconds\n"
      ]
    },
    {
      "cell_type": "markdown",
      "id": "71fbbf8b-85d5-446f-8b5d-04b980118a5e",
      "metadata": {
        "id": "71fbbf8b-85d5-446f-8b5d-04b980118a5e"
      },
      "source": [
        "It is possible to get a glimpse of the signals by plotting them by using the functions of the library wfdb:"
      ]
    },
    {
      "cell_type": "code",
      "execution_count": null,
      "id": "578dfc66-b8ca-4c86-98c2-eff29127f009",
      "metadata": {
        "id": "578dfc66-b8ca-4c86-98c2-eff29127f009"
      },
      "outputs": [],
      "source": [
        "wfdb.plot_wfdb(record=record, title='ECG - ' + patient, figsize = (20, 15))"
      ]
    },
    {
      "cell_type": "markdown",
      "id": "98ec75b7-9eba-4a96-b0fb-8fa6a6464f79",
      "metadata": {
        "id": "98ec75b7-9eba-4a96-b0fb-8fa6a6464f79"
      },
      "source": [
        "Each channel corresponds to a lead measured by a set of electrodes and provides a different picture of the heart. Each lead signal is stored in records.p_signal in a column vector (that is, physical signal, which is loaded by default by using the sampling frequency of the device). An experienced doctor understands the information given by each of the leads and is able to find heart anomalies or different diseases by studying them. \n",
        "\n",
        "For example, if we just want to read the i, ii, iii leads:\n"
      ]
    },
    {
      "cell_type": "code",
      "execution_count": null,
      "id": "b2f0aea0-fc2a-4e2e-8f1d-997893501686",
      "metadata": {
        "id": "b2f0aea0-fc2a-4e2e-8f1d-997893501686"
      },
      "outputs": [],
      "source": [
        "f, ax = plt.subplots(3, 1, figsize=(20, 10), sharex=True)\n",
        "for ii in range(3):\n",
        "    ax[ii].plot(record.p_signal[:, ii])\n",
        "    ax[ii].set_ylabel(record.sig_name[ii]+\" (mV)\")\n",
        "    ax[ii].set_xlim([-100, 10100])\n",
        "    \n",
        "ax[2].set_xlabel('t (ms)')\n",
        "ax[0].set_title('First 3 leads, ' + patient)"
      ]
    },
    {
      "cell_type": "markdown",
      "id": "ccfe6e7f-b0e6-435f-a86d-8086b9509fbb",
      "metadata": {
        "id": "ccfe6e7f-b0e6-435f-a86d-8086b9509fbb"
      },
      "source": [
        "For the rest of the exercise, I am going to focus on the second lead (ii) as it presents sharper Q and S peaks. "
      ]
    },
    {
      "cell_type": "markdown",
      "id": "9aff83a6-9856-41b9-ac34-b30d496a75e4",
      "metadata": {
        "id": "9aff83a6-9856-41b9-ac34-b30d496a75e4"
      },
      "source": [
        "## Data processing"
      ]
    },
    {
      "cell_type": "markdown",
      "id": "c5e3bacc-f60f-4313-bfbb-2e29e36bc4a0",
      "metadata": {
        "id": "c5e3bacc-f60f-4313-bfbb-2e29e36bc4a0"
      },
      "source": [
        "While registering a ECG, several physiological non-cardiac signals may be present in our data. For example, the breathing of the patient leaves a baseline in the dataset that can be misunderstood when dealing with an ECG. Therefore, the first step I would take is to flatten the ECG by removing the baseline, which will be obtained by applying a LOWESS smoother (Cleveland W. S. 1981)."
      ]
    },
    {
      "cell_type": "code",
      "execution_count": null,
      "id": "6e1e9ef2-bc2a-40fe-be62-56b475bec00c",
      "metadata": {
        "id": "6e1e9ef2-bc2a-40fe-be62-56b475bec00c"
      },
      "outputs": [],
      "source": [
        "channel = 1\n",
        "signal_0 = record.p_signal[:, channel]\n",
        "\n",
        "x = np.arange(len(signal_0))\n",
        "baseline = sm.nonparametric.lowess(signal_0, x, frac = 0.05)  # Frac parameter needs to be low as the outliers need to have a low weight in order not to loose too much information\n",
        "\n",
        "signal_b = signal_0-baseline[:, 1]"
      ]
    },
    {
      "cell_type": "code",
      "execution_count": null,
      "id": "a709bf3b-3070-4f53-b394-47efb008c213",
      "metadata": {
        "id": "a709bf3b-3070-4f53-b394-47efb008c213"
      },
      "outputs": [],
      "source": [
        "f, ax = plt.subplots(2, 1, figsize=(20, 10), sharex=True)\n",
        "ax[0].plot(x, signal_0)\n",
        "ax[0].plot(x, baseline[:, 1], label='Baseline estimated by LOWESS')\n",
        "ax[1].plot(x, signal_b)\n",
        "ax[0].set_ylabel('raw_signal')\n",
        "ax[1].set_ylabel('signal_corrected_by_baseline')\n",
        "ax[1].set_xlim([-100, 10050])\n",
        "ax[1].set_xlabel('t (ms)')\n",
        "ax[0].set_title('Signal denoising')\n",
        "ax[0].legend()"
      ]
    },
    {
      "cell_type": "markdown",
      "id": "39005e06-0e62-4a2c-a3eb-bdba5cc699d6",
      "metadata": {
        "id": "39005e06-0e62-4a2c-a3eb-bdba5cc699d6"
      },
      "source": [
        "## Identifying R and Q peaks"
      ]
    },
    {
      "cell_type": "markdown",
      "id": "d2ea05e5-4904-40a8-a8b7-8f4bb23de243",
      "metadata": {
        "id": "d2ea05e5-4904-40a8-a8b7-8f4bb23de243"
      },
      "source": [
        "In order to measure the heart beats, I am going to identify the QRS complex in the signal. There are multiple QRS detection methods in literature (Eilers J., Chromik J. and Arnrich B. 2021: Choosing the Appropriate QRS Detector https://www.scitepress.org/Papers/2021/102346/102346.pdf), and the library wfdb provides two algorithms to detect it:\n",
        "\n",
        "- GQRS: Trapezoid low-pass filtering + convolution with QRS filter. Learning phase then detection phase.\n",
        "- XQRS: Band-pass filtering + moving wave integration + Ricker wavelet. Can conduct learning if desired.\n",
        "\n",
        "I will perform and attempt with both methods:"
      ]
    },
    {
      "cell_type": "code",
      "execution_count": null,
      "id": "64830c89-1416-4381-a115-b3513b308ab9",
      "metadata": {
        "id": "64830c89-1416-4381-a115-b3513b308ab9"
      },
      "outputs": [],
      "source": [
        "# Use the GQRS algorithm to detect QRS locations in the first channel\n",
        "gqrs_inds = processing.gqrs_detect(sig=signal_b, fs=record.fs)\n",
        "xqrs_inds = processing.xqrs_detect(sig=signal_b, fs=record.fs)\n"
      ]
    },
    {
      "cell_type": "markdown",
      "id": "d7eced87-3595-44c5-8dd6-a88fcdef5552",
      "metadata": {
        "id": "d7eced87-3595-44c5-8dd6-a88fcdef5552"
      },
      "source": [
        "The XQRS attempt does not work properly with the current configuration. Further exploration would be needed to understand why. On the other side, the GQRS algorithm has worked succesfully:"
      ]
    },
    {
      "cell_type": "code",
      "execution_count": null,
      "id": "676005de-2d5a-4f87-8b27-2cc37051b204",
      "metadata": {
        "id": "676005de-2d5a-4f87-8b27-2cc37051b204"
      },
      "outputs": [],
      "source": [
        "f, ax = plt.subplots(1, 1, figsize=(20, 10))\n",
        "ax.plot(signal_b, color='C0', alpha=0.4)\n",
        "ax.plot(gqrs_inds, signal_b[gqrs_inds], 'x', color='k',\n",
        "        label='Estimated QRS complex location', markersize=12)\n",
        "ax.set_xlim([-100, 10050])\n",
        "ax.set_xlabel('t (ms)')\n",
        "ax.set_ylabel('Signal')\n",
        "plt.legend()"
      ]
    },
    {
      "cell_type": "markdown",
      "id": "e64b390f-2215-4da9-b816-423e9a3f6cc7",
      "metadata": {
        "id": "e64b390f-2215-4da9-b816-423e9a3f6cc7"
      },
      "source": [
        "In order to match the location of the QRS with the local maxima (the R peaks), wfdb provides a function called correct_peaks. It takes as inputs the current location of the QRS complex, a search radius (the maximum horizontal shift allowed to find the local maxima) and a window size (the size of the moving average filter). As it gives also the option to search for local minima, we can also identify the S peaks. The search radius can be defined by using a heart reate in bpm. A maximum possible bpm would provide the search radius needed for any ECG. A value of 200 bpms would be used here (https://www.webmd.com/heart-disease/heart-failure/watching-rate-monitor):"
      ]
    },
    {
      "cell_type": "code",
      "execution_count": null,
      "id": "0af1c507-e2c1-45f5-903e-8495f18e9096",
      "metadata": {
        "id": "0af1c507-e2c1-45f5-903e-8495f18e9096"
      },
      "outputs": [],
      "source": [
        "max_hr = 200\n",
        "search_radius = int(record.fs * 60 / max_hr)\n",
        "\n",
        "\n",
        "R_inds = processing.correct_peaks(signal_b, \n",
        "                                  peak_inds=gqrs_inds,\n",
        "                                  search_radius=search_radius, \n",
        "                                  smooth_window_size=150)\n",
        "\n",
        "S_inds = processing.correct_peaks(signal_b, \n",
        "                                  peak_inds=gqrs_inds,\n",
        "                                  search_radius=search_radius,\n",
        "                                  peak_dir='down',\n",
        "                                  smooth_window_size=150)\n",
        "\n",
        "f, ax = plt.subplots(1, 1, figsize=(20, 10))\n",
        "ax.plot(signal_b, color='C0', alpha=0.4)\n",
        "ax.plot(R_inds, signal_b[R_inds], 'x', color='r',\n",
        "        label='R peaks position', markersize=12)\n",
        "ax.plot(S_inds, signal_b[S_inds], 'x', color='k',\n",
        "        label='S peaks position', markersize=12)\n",
        "ax.set_xlim([-100, 5500])\n",
        "ax.set_xlabel('t (ms)')\n",
        "ax.set_ylabel('Signal')\n",
        "plt.legend()"
      ]
    },
    {
      "cell_type": "markdown",
      "id": "26eadb5f-d58b-44a5-842f-04c910505091",
      "metadata": {
        "id": "26eadb5f-d58b-44a5-842f-04c910505091"
      },
      "source": [
        "With these peaks it is possible to measure the RS amplitude, the RR duration, and to compute the total number of beats as well as the mean heart rate from them, in beats per minute."
      ]
    },
    {
      "cell_type": "markdown",
      "id": "31e26ea6-3b82-4e80-81ee-253a1bd8717d",
      "metadata": {
        "id": "31e26ea6-3b82-4e80-81ee-253a1bd8717d"
      },
      "source": [
        "## Metrics: Heart rate, RR duration"
      ]
    },
    {
      "cell_type": "code",
      "execution_count": null,
      "id": "28cf4341-6ab0-4c6c-9c3d-234f7e1db706",
      "metadata": {
        "id": "28cf4341-6ab0-4c6c-9c3d-234f7e1db706"
      },
      "outputs": [],
      "source": [
        "RS_amplitude = signal_b[R_inds] - signal_b[S_inds]\n",
        "\n",
        "total_beats = len(R_inds)\n",
        "\n",
        "rr_duration = processing.calc_rr(qrs_locs=R_inds, fs=record.fs, rr_units='seconds')\n",
        "\n",
        "hr = processing.compute_hr(sig_len=signal_b.shape[0], qrs_inds=R_inds, fs=record.fs)\n",
        "\n",
        "mean_hr = processing.calc_mean_hr(rr_duration, fs = record.fs, rr_units='seconds')\n",
        "\n",
        "print('Total beats in ' + str(int(len(signal_b)/1000)) + ' seconds: ' + str(total_beats))\n",
        "print('Mean Heart Rate: ' + str(np.round(mean_hr,2)) + ' bps')"
      ]
    },
    {
      "cell_type": "markdown",
      "id": "a8603d75-08f3-419b-96c0-565895df573e",
      "metadata": {
        "id": "a8603d75-08f3-419b-96c0-565895df573e"
      },
      "source": [
        "We can also plot the heart rate and the RR progression curve:"
      ]
    },
    {
      "cell_type": "code",
      "execution_count": null,
      "id": "db21d797-fcde-4f85-aff6-ac98fa35aecb",
      "metadata": {
        "id": "db21d797-fcde-4f85-aff6-ac98fa35aecb"
      },
      "outputs": [],
      "source": [
        "def plot_hr_rr(sig, hr, peak_inds, fs, title, figsize=(20, 10)):\n",
        "    \"Plot a signal with its peaks and heart rate\"\n",
        "    # Calculate heart rate       \n",
        "    fig, ax_left = plt.subplots(figsize=figsize)\n",
        "    ax_right = ax_left.twinx()\n",
        "    \n",
        "    ax_left.plot(peak_inds, sig[peak_inds], color='C0', label='RR curve')\n",
        "    ax_right.plot(np.arange(len(hr)), hr, label='Heart rate', color='C1', linewidth=2)\n",
        "\n",
        "    ax_left.set_title(title)\n",
        "\n",
        "    ax_left.set_xlabel('Time (ms)')\n",
        "    ax_left.set_ylabel('RR progression', color='C0')\n",
        "    ax_right.set_ylabel('Heart rate (bpm)', color='C1')\n",
        "    # Make the y-axis label, ticks and tick labels match the line color.\n",
        "    ax_left.tick_params('y', colors='C0')\n",
        "    ax_right.tick_params('y', colors='C1')\n",
        "    plt.show()\n",
        "    \n",
        "plot_hr_rr(signal_b, hr, R_inds, record.fs, 'Heart rate + RR curve')"
      ]
    },
    {
      "cell_type": "markdown",
      "id": "46ad7d39-9d89-4205-9889-63d1a2189044",
      "metadata": {
        "id": "46ad7d39-9d89-4205-9889-63d1a2189044"
      },
      "source": [
        "The information provided in the header file is stored in record.comments. This information can be formatted into a dictionary structure, and it can be provided as an output with the measures taken in the ECG:"
      ]
    },
    {
      "cell_type": "code",
      "execution_count": null,
      "id": "ccff449f-c65e-45f6-b36b-b6ab39c3f76b",
      "metadata": {
        "id": "ccff449f-c65e-45f6-b36b-b6ab39c3f76b"
      },
      "outputs": [],
      "source": [
        "def parse_coms(record):\n",
        "    head_info = {}\n",
        "    for item in record.comments:\n",
        "        elem = item.split(':')\n",
        "        head_info[elem[0]] = elem[1].lstrip()\n",
        "    \n",
        "    keys =  list(head_info.keys())\n",
        "    ii_diag = [i for i, x in enumerate(keys) if x == \"Diagnose\"][0]\n",
        "    ii_hemo = [i for i, x in enumerate(keys) if x == \"Hemodynamics\"][0]\n",
        "    ii_ther = [i for i, x in enumerate(keys) if x == \"Therapy\"][0]\n",
        "\n",
        "    keys_diag = [x for i, x in enumerate(keys) if ii_diag < i < ii_hemo]\n",
        "    keys_hemo = [x for i, x in enumerate(keys) if ii_hemo < i < ii_ther]\n",
        "    keys_ther = [x for i, x in enumerate(keys) if ii_ther < i]\n",
        "    \n",
        "    header_all = {\"age\":head_info[\"age\"], \n",
        "                  \"sex\":head_info[\"sex\"], \n",
        "                  \"ECG date\":head_info[\"ECG date\"], \n",
        "                  \"Diagnose\":{}, \n",
        "                  \"Hemodynamics\":{}, \n",
        "                  \"Therapy\":{}}\n",
        "\n",
        "    for key in keys_diag:\n",
        "        header_all['Diagnose'][key] = head_info[key]\n",
        "    for key in keys_hemo:\n",
        "        header_all['Hemodynamics'][key] = head_info[key]\n",
        "    for key in keys_ther:\n",
        "        header_all['Therapy'][key] = head_info[key]\n",
        "        \n",
        "    return header_all\n",
        "\n",
        "patient_info = parse_coms(record)"
      ]
    },
    {
      "cell_type": "code",
      "execution_count": null,
      "id": "7c326026-85f1-4928-957d-799d6d49df8c",
      "metadata": {
        "id": "7c326026-85f1-4928-957d-799d6d49df8c"
      },
      "outputs": [],
      "source": [
        "patient_info['ECG'] = {'Heart rate': np.round(mean_hr, 3), \n",
        "                       'Total beats (' + str(int(len(signal_b)/1000)) + ' seconds)': total_beats, \n",
        "                       'Average RS amplitude': np.round(np.average(RS_amplitude),3)}\n",
        "patient_info['ECG']"
      ]
    },
    {
      "cell_type": "markdown",
      "id": "8d663de0-c494-4f3b-8eb2-6f9b59c20090",
      "metadata": {
        "id": "8d663de0-c494-4f3b-8eb2-6f9b59c20090"
      },
      "source": [
        "Annotations can be created from the results obtained. In this case, I will label as normal beat every R peak location:"
      ]
    },
    {
      "cell_type": "code",
      "execution_count": null,
      "id": "faa72ba4-608c-4e97-98a8-66718b141f78",
      "metadata": {
        "id": "faa72ba4-608c-4e97-98a8-66718b141f78"
      },
      "outputs": [],
      "source": [
        "ann1 = wfdb.Annotation(record_name='rec1', extension='atr',\n",
        "                       sample=R_inds, symbol = ['N' for ii in range(len(R_inds))],\n",
        "                       chan = channel*np.ones(len(R_inds)), fs = record.fs)\n",
        "\n",
        "wfdb.wrann(record_name=ecg, extension='atr',\n",
        "           sample = R_inds, symbol = ['N' for ii in range(len(R_inds))],\n",
        "           chan = channel*np.ones(len(R_inds)),\n",
        "           fs = record.fs)"
      ]
    },
    {
      "cell_type": "markdown",
      "id": "0a80ec31-8613-43eb-a6e3-40d78313482b",
      "metadata": {
        "id": "0a80ec31-8613-43eb-a6e3-40d78313482b"
      },
      "source": [
        "The last piece of code returns an annotation file which can be used to label ECGs and in future Deep Learning approaches (to classify ECGs depending on the anomaly we are searching for)."
      ]
    },
    {
      "cell_type": "markdown",
      "id": "c13e6dd3-8701-4de1-9fe9-2643013daef5",
      "metadata": {
        "tags": [],
        "id": "c13e6dd3-8701-4de1-9fe9-2643013daef5"
      },
      "source": [
        "## Other ideas to be developed"
      ]
    },
    {
      "cell_type": "markdown",
      "id": "4da7e0cb-cfa9-4a7c-a58d-9b147e665ad2",
      "metadata": {
        "id": "4da7e0cb-cfa9-4a7c-a58d-9b147e665ad2"
      },
      "source": [
        "The signal can be also denoised to facilitate the automatic peak detection on the signal. In this case I am going to use a rolling average (Xiang Y., Lin Z., Meng J. 2018.) over 5 samples"
      ]
    },
    {
      "cell_type": "code",
      "execution_count": null,
      "id": "543960ba-c0f9-45c5-9b94-a51c698bb526",
      "metadata": {
        "id": "543960ba-c0f9-45c5-9b94-a51c698bb526"
      },
      "outputs": [],
      "source": [
        "## Rolling average over N samples\n",
        "def signal_den_a(sig, N):\n",
        "    sa = np.zeros(len(sig)) \n",
        "    for ii in range(len(sig)-N):\n",
        "        sa[ii]= np.sum(sig[ii:ii+N])/N\n",
        "    return sa\n",
        "\n",
        "\n",
        "signal_a = signal_den_a(signal_b, 5)\n",
        "\n",
        "f, ax = plt.subplots(2, 1, figsize=(20, 10), sharex=True)\n",
        "ax[0].plot(x, signal_b)\n",
        "ax[1].plot(x, signal_a)\n",
        "ax[0].set_ylabel('signal_corrected_by_baseline')\n",
        "ax[1].set_ylabel('signal_averaged')\n",
        "ax[1].set_xlim([-100, 10100])\n",
        "ax[1].set_xlabel('t (ms)')\n",
        "ax[0].set_title('Signal denoising')"
      ]
    },
    {
      "cell_type": "markdown",
      "id": "fc61600f-58fe-4aac-a923-a33d6228bf1b",
      "metadata": {
        "id": "fc61600f-58fe-4aac-a923-a33d6228bf1b"
      },
      "source": [
        "At the end, the result was not convincing (introduction of artifacts in some pulses) so I did not use it as the QRS complex was clearly defined already. For a deeper analysis of the rest of components and to increase sensitivity, a denoising algorithm can be developed and applied to an ECG."
      ]
    },
    {
      "cell_type": "markdown",
      "id": "086133f9-ff6e-4e06-9792-23fa7e76ee36",
      "metadata": {
        "tags": [],
        "id": "086133f9-ff6e-4e06-9792-23fa7e76ee36"
      },
      "source": [
        "### Convolutional neural network"
      ]
    },
    {
      "cell_type": "markdown",
      "id": "f348bfd9-bffc-4364-8b21-c435adaa313c",
      "metadata": {
        "id": "f348bfd9-bffc-4364-8b21-c435adaa313c"
      },
      "source": [
        "The works of Xiang Y., Lin Z., Meng J. (2018) and Sarlija, M., Jurisic F., Popovic S. (2017) propose a QRS detection method based on a two-level CNN. This process would require a normalization of the signals:"
      ]
    },
    {
      "cell_type": "code",
      "execution_count": null,
      "id": "371cc299-9ed7-4a3c-bd61-24e26fe0f6c0",
      "metadata": {
        "id": "371cc299-9ed7-4a3c-bd61-24e26fe0f6c0"
      },
      "outputs": [],
      "source": [
        "#n_signal = processing.normalize_bound(signal_b, lb=0, ub=1)\n",
        "\n",
        "import tensorflow as tf\n",
        "\n",
        "from tensorflow.keras import layers\n",
        "from tensorflow.keras import models\n",
        "\n",
        "## CNN structure implemented in Sarlija, M., Jurisic F., Popovic S. (2017)\n",
        "\n",
        "input_shape = (145, 1) \n",
        "\n",
        "model = models.Sequential([\n",
        "    layers.Input(shape=input_shape),\n",
        "    layers.Conv1D(32, 5, strides = 1, activation='relu'),\n",
        "    layers.Dropout(0.5),\n",
        "    layers.MaxPool1D(pool_size=3, strides=2, padding='valid'),\n",
        "    layers.Conv1D(32, 5, strides=1, activation='relu'),\n",
        "    layers.Dropout(0.5),\n",
        "    layers.Dense(32, activation='relu'),\n",
        "    layers.Dropout(0.5),\n",
        "    layers.Dense(32, activation='relu'),\n",
        "    layers.Dropout(0.5),\n",
        "    layers.Softmax()\n",
        "])\n",
        "model.summary()\n",
        "\n",
        "## We'd need to split our dataset in train/test and then select the right input shape."
      ]
    },
    {
      "cell_type": "markdown",
      "id": "19759326-ff4c-46a6-9628-9b7e280ed4e8",
      "metadata": {
        "id": "19759326-ff4c-46a6-9628-9b7e280ed4e8"
      },
      "source": [
        "To be able to use this CNN, we'd need first to divide the entire dataset in train/test sets. The same dataset provides a set of them called CONTROL which could be used to test. This would be my next step making sure that a CNN like this one would provide meaningful insights, but it would require to annotate and select the right data to train and to test. This could be done by validating the datasets through the work presented in this notebook (by detecting the R, S peaks + perhaps a filter to determine the PR segment and the position of the Q peak)."
      ]
    },
    {
      "cell_type": "markdown",
      "id": "b0801a8c-217e-4da3-b226-105431d362f6",
      "metadata": {
        "tags": [],
        "id": "b0801a8c-217e-4da3-b226-105431d362f6"
      },
      "source": [
        "## Leasons learned"
      ]
    },
    {
      "cell_type": "markdown",
      "id": "13a27942-20ac-4006-8b3a-5943d2f6d2ac",
      "metadata": {
        "id": "13a27942-20ac-4006-8b3a-5943d2f6d2ac"
      },
      "source": [
        "- I learned what a ECG is, how does the device works, how does it read the data and the most important: why do we use them to diagnose.\n",
        "- I found an adequate library to read the data sources developed for the purpose of analyzing physiological signals.\n",
        "- I learned how to display an ECG: how to read it, how to plot it, how to annotate on it.\n",
        "- I know how to preprocess an ECG de-noise, normalize and clean an ECG from non-wanted signals, as well as the limitations of each method.\n",
        "- I can identify the principal waves on a healthy ECG (P wave, QRS complex, T wave). I can find a R and S peaks in a signal through an algorithm.\n",
        "- I can measure automatically the heart beat on a signal based on the R peaks.\n",
        "- I can annotate prepare a data base to be used as an input for a CNN.\n",
        "- I can build/replicate a CNN used in literature for a problem outside of my current domain.\n",
        "\n",
        "And finally:\n",
        "- I understood the purpose of AI anomaly detection in an ECG, and why it is a repetitive/time-consuming task for a doctor"
      ]
    },
    {
      "cell_type": "markdown",
      "id": "ff120e2b-99b9-4adc-adbd-a210d7cb777f",
      "metadata": {
        "id": "ff120e2b-99b9-4adc-adbd-a210d7cb777f"
      },
      "source": [
        "### Future prospects"
      ]
    },
    {
      "cell_type": "markdown",
      "id": "e2372979-2235-4ee8-bc54-bd3e4ffa6027",
      "metadata": {
        "id": "e2372979-2235-4ee8-bc54-bd3e4ffa6027"
      },
      "source": [
        "The next natural step would be to prepare / augmentate the dataset so it can be used as an input for the CNN. It would be possible also to test another CNN structures focused on different problems or classification. For instance:\n",
        "\n",
        "- Identifying the QRS complex\n",
        "- Identifying the P wave and the T wave\n",
        "- Identifying the elusive U wave\n",
        "- Combining different leads to generate a better perspective of the heart\n",
        "- Classify a ECG healthy/unhealthy based on different conditions and/or parameters.\n",
        "\n",
        "This would require a deeper preprocessing with:\n",
        "\n",
        "- A denoising system which would be independent of the ECG lead used (or adapted to each case)\n",
        "- An adequate normalization and de-baselinization of the data\n",
        "- A previous labelling/classification based on the comments of each file (or expert knowledge from a doctor)"
      ]
    },
    {
      "cell_type": "markdown",
      "id": "122df2c2-3949-4dae-924b-14924b5e9594",
      "metadata": {
        "tags": [],
        "id": "122df2c2-3949-4dae-924b-14924b5e9594"
      },
      "source": [
        "## Bibliography"
      ]
    },
    {
      "cell_type": "markdown",
      "id": "d003b24e-05dd-4b09-b07a-88f2fa793ef9",
      "metadata": {
        "id": "d003b24e-05dd-4b09-b07a-88f2fa793ef9"
      },
      "source": [
        "### Data resources:\n",
        "\n",
        "- Bousseljot R, Kreiseler D, Schnabel, A. Nutzung der EKG-Signaldatenbank CARDIODAT der PTB über das Internet. Biomedizinische Technik, Band 40, Ergänzungsband 1 (1995) S 317\n",
        "\n",
        "- Goldberger, A., Amaral, L., Glass, L., Hausdorff, J., Ivanov, P. C., Mark, R., ... & Stanley, H. E. (2000). PhysioBank, PhysioToolkit, and PhysioNet: Components of a new research resource for complex physiologic signals. Circulation [Online]. 101 (23), pp. e215–e220.\n",
        "\n",
        "### Python libraries:\n",
        "\n",
        "- Xie, C., McCullum, L., Johnson, A., Pollard, T., Gow, B., & Moody, B. (2022). Waveform Database Software Package (WFDB) for Python (version 4.0.0). PhysioNet. https://doi.org/10.13026/mmpm-2v55.\n",
        "\n",
        "- Martín Abadi, Ashish Agarwal, Paul Barham, Eugene Brevdo, Zhifeng Chen, Craig Citro, Greg S. Corrado, Andy Davis, Jeffrey Dean, Matthieu Devin, Sanjay Ghemawat, Ian Goodfellow, Andrew Harp, Geoffrey Irving, Michael Isard, Rafal Jozefowicz, Yangqing Jia, Lukasz Kaiser, Manjunath Kudlur, Josh Levenberg, Dan Mané, Mike Schuster, Rajat Monga, Sherry Moore, Derek Murray, Chris Olah, Jonathon Shlens, Benoit Steiner, Ilya Sutskever, Kunal Talwar, Paul Tucker, Vincent Vanhoucke, Vijay Vasudevan, Fernanda Viégas, Oriol Vinyals, Pete Warden, Martin Wattenberg, Martin Wicke, Yuan Yu, and Xiaoqiang Zheng. TensorFlow: Large-scale machine learning on heterogeneous systems, 2015. Software available from tensorflow.org.\n",
        "\n",
        "- Seabold, Skipper, and Josef Perktold. “Statsmodels: Econometric and statistical modeling with python.” Proceedings of the 9th Python in Science Conference. 2010.\n",
        "\n",
        "### Methods\n",
        "\n",
        "- J Eilers, J Chromik, B Arnrich 2021, Choosing the Appropriate QRS Detector. BIOSIGNALS, 50-59\n",
        "\n",
        "- Xiang, Y., Lin, Z. & Meng, J. Automatic QRS complex detection using two-level convolutional neural network. BioMed Eng OnLine 17, 13 (2018). https://doi.org/10.1186/s12938-018-0441-4\n",
        "\n",
        "- M. Šarlija, F. Jurišić and S. Popović, \"A convolutional neural network based approach to QRS detection,\" Proceedings of the 10th International Symposium on Image and Signal Processing and Analysis, 2017, pp. 121-125, doi: 10.1109/ISPA.2017.8073581.\n",
        "\n",
        "- Cleveland, W.S. (1981) LOWESS: A program for smoothing scatter plots by robust locally weighted regression. The American Statistician, 35, 54. http://dx.doi.org/10.2307/2683591\n",
        "\n",
        "### Other references\n",
        "\n",
        "- ECG theory and instrumentation:\n",
        "\n",
        "    - http://www.emtresource.com/category/resources/ecg/\n",
        "    - https://www.cablesandsensors.eu/pages/12-lead-ecg-placement-guide-with-illustrations\n",
        "    - https://ecgwaves.com/topic/ecg-normal-p-wave-qrs-complex-st-segment-t-wave-j-point/\n",
        "    - https://www.ncbi.nlm.nih.gov/books/NBK551635/\n",
        "    \n",
        "- Demo on wfdb python:\n",
        "\n",
        "    - https://github.com/MIT-LCP/wfdb-python/blob/main/demo.ipynb\n",
        "\n"
      ]
    }
  ],
  "metadata": {
    "kernelspec": {
      "display_name": "Python 3 (ipykernel)",
      "language": "python",
      "name": "python3"
    },
    "language_info": {
      "codemirror_mode": {
        "name": "ipython",
        "version": 3
      },
      "file_extension": ".py",
      "mimetype": "text/x-python",
      "name": "python",
      "nbconvert_exporter": "python",
      "pygments_lexer": "ipython3",
      "version": "3.8.10"
    },
    "colab": {
      "provenance": [],
      "include_colab_link": true
    }
  },
  "nbformat": 4,
  "nbformat_minor": 5
}